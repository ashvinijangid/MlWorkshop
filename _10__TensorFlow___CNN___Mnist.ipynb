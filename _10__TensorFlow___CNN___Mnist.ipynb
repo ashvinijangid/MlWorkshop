{
 "cells": [
  {
   "cell_type": "markdown",
   "metadata": {},
   "source": [
    "# <span style=\"color:#e53935;font-size:10vw;font-weight:800;text-shadow:2px 2px 4px #aaa\">Mnist CNN</span>\n",
    "# <span style=\"font-size:6vw;font-weight:800;text-shadow:2px 2px 10px #aaa\">Two Days Faculty Development Programe</span>\n",
    "## <span style=\"font-size:4vw;font-weight:800\">Alok Pandey <br> Ashvini Jangid</span>\n",
    "## <span style=\"font-size:4vw;font-weight:800\"><a href=\"https://imjangid.xyz\">ashvinijangid@gmail.com</a></span>"
   ]
  },
  {
   "cell_type": "code",
   "execution_count": 3,
   "metadata": {
    "ExecuteTime": {
     "end_time": "2019-07-16T13:52:55.445041Z",
     "start_time": "2019-07-16T13:52:55.434450Z"
    }
   },
   "outputs": [],
   "source": [
    "from keras.datasets import mnist\n",
    "from matplotlib import pyplot\n",
    "from PIL.Image import fromarray\n",
    "from warnings import filterwarnings\n",
    "import os\n",
    "filterwarnings(\"ignore\")\n",
    "os.environ['TF_CPP_MIN_LOG_LEVEL'] = \"3\""
   ]
  },
  {
   "cell_type": "code",
   "execution_count": 4,
   "metadata": {
    "ExecuteTime": {
     "end_time": "2019-07-16T13:52:56.604384Z",
     "start_time": "2019-07-16T13:52:55.746557Z"
    }
   },
   "outputs": [
    {
     "data": {
      "image/png": "[encoded data removed]",
      "text/plain": [
       "<Figure size 432x288 with 9 Axes>"
      ]
     },
     "metadata": {
      "needs_background": "light"
     },
     "output_type": "display_data"
    }
   ],
   "source": [
    "(X_train, y_train), (X_test, y_test) = mnist.load_data()\n",
    "for i in range(0, 9):\n",
    "    pyplot.subplot(330 + 1 + i)\n",
    "    pyplot.imshow(fromarray(X_train[i]))\n",
    "pyplot.show()"
   ]
  },
  {
   "cell_type": "code",
   "execution_count": 27,
   "metadata": {
    "ExecuteTime": {
     "end_time": "2019-07-16T13:55:36.485218Z",
     "start_time": "2019-07-16T13:55:36.480890Z"
    }
   },
   "outputs": [],
   "source": [
    "import keras\n",
    "from keras.datasets import mnist\n",
    "from keras.models import Sequential\n",
    "from keras.layers import Dense, Dropout, Flatten\n",
    "from keras.layers import Conv2D, MaxPooling2D\n",
    "from keras import backend as K"
   ]
  },
  {
   "cell_type": "code",
   "execution_count": 28,
   "metadata": {
    "ExecuteTime": {
     "end_time": "2019-07-16T13:55:36.734522Z",
     "start_time": "2019-07-16T13:55:36.731913Z"
    }
   },
   "outputs": [],
   "source": [
    "img_rows, img_cols = 28, 28"
   ]
  },
  {
   "cell_type": "code",
   "execution_count": 29,
   "metadata": {
    "ExecuteTime": {
     "end_time": "2019-07-16T13:55:37.304024Z",
     "start_time": "2019-07-16T13:55:36.988801Z"
    }
   },
   "outputs": [],
   "source": [
    "(x_train, y_train), (x_test, y_test) = mnist.load_data()\n",
    "\n",
    "if K.image_data_format() == 'channels_first':\n",
    "    x_train = x_train.reshape(x_train.shape[0], 1, img_rows, img_cols)\n",
    "    x_test = x_test.reshape(x_test.shape[0], 1, img_rows, img_cols)\n",
    "    input_shape = (1, img_rows, img_cols)\n",
    "else:\n",
    "    x_train = x_train.reshape(x_train.shape[0], img_rows, img_cols, 1)\n",
    "    x_test = x_test.reshape(x_test.shape[0], img_rows, img_cols, 1)\n",
    "    input_shape = (img_rows, img_cols, 1)"
   ]
  },
  {
   "cell_type": "code",
   "execution_count": 30,
   "metadata": {
    "ExecuteTime": {
     "end_time": "2019-07-16T13:55:37.542388Z",
     "start_time": "2019-07-16T13:55:37.319443Z"
    }
   },
   "outputs": [],
   "source": [
    "X_train = X_train.astype('float32')\n",
    "X_test = X_test.astype('float32')\n",
    "X_train = X_train / 255.0\n",
    "X_test = X_test / 255.0"
   ]
  },
  {
   "cell_type": "code",
   "execution_count": 34,
   "metadata": {
    "ExecuteTime": {
     "end_time": "2019-07-16T13:56:16.945311Z",
     "start_time": "2019-07-16T13:56:16.928675Z"
    }
   },
   "outputs": [],
   "source": [
    "from keras.utils import np_utils\n",
    "y_train = np_utils.to_categorical(y_train)\n",
    "y_test = np_utils.to_categorical(y_test)\n",
    "num_classes = y_test.shape[1]"
   ]
  },
  {
   "cell_type": "code",
   "execution_count": 35,
   "metadata": {
    "ExecuteTime": {
     "end_time": "2019-07-16T14:11:00.121697Z",
     "start_time": "2019-07-16T13:56:17.504519Z"
    }
   },
   "outputs": [
    {
     "name": "stderr",
     "output_type": "stream",
     "text": [
      "W0716 19:26:17.712443 139939118733120 deprecation.py:323] From /home/ash/.local/lib/python3.7/site-packages/tensorflow/python/ops/math_grad.py:1250: add_dispatch_support.<locals>.wrapper (from tensorflow.python.ops.array_ops) is deprecated and will be removed in a future version.\n",
      "Instructions for updating:\n",
      "Use tf.where in 2.0, which has the same broadcast rule as np.where\n"
     ]
    },
    {
     "name": "stdout",
     "output_type": "stream",
     "text": [
      "Train on 60000 samples, validate on 10000 samples\n",
      "Epoch 1/10\n",
      "60000/60000 [==============================] - 84s 1ms/step - loss: 8.7943 - acc: 0.4484 - val_loss: 2.7765 - val_acc: 0.8198\n",
      "Epoch 2/10\n",
      "60000/60000 [==============================] - 87s 1ms/step - loss: 1.0665 - acc: 0.8907 - val_loss: 0.1102 - val_acc: 0.9693\n",
      "Epoch 3/10\n",
      "60000/60000 [==============================] - 91s 2ms/step - loss: 0.1695 - acc: 0.9535 - val_loss: 0.0660 - val_acc: 0.9808\n",
      "Epoch 4/10\n",
      "60000/60000 [==============================] - 89s 1ms/step - loss: 0.1200 - acc: 0.9675 - val_loss: 0.0498 - val_acc: 0.9858\n",
      "Epoch 5/10\n",
      "60000/60000 [==============================] - 87s 1ms/step - loss: 0.0927 - acc: 0.9734 - val_loss: 0.0519 - val_acc: 0.9850\n",
      "Epoch 6/10\n",
      "60000/60000 [==============================] - 98s 2ms/step - loss: 0.0842 - acc: 0.9755 - val_loss: 0.0508 - val_acc: 0.9847\n",
      "Epoch 7/10\n",
      "60000/60000 [==============================] - 89s 1ms/step - loss: 0.0740 - acc: 0.9792 - val_loss: 0.0390 - val_acc: 0.9874\n",
      "Epoch 8/10\n",
      "60000/60000 [==============================] - 86s 1ms/step - loss: 0.0687 - acc: 0.9807 - val_loss: 0.0426 - val_acc: 0.9878\n",
      "Epoch 9/10\n",
      "60000/60000 [==============================] - 87s 1ms/step - loss: 0.0621 - acc: 0.9824 - val_loss: 0.0405 - val_acc: 0.9868\n",
      "Epoch 10/10\n",
      "60000/60000 [==============================] - 85s 1ms/step - loss: 0.0579 - acc: 0.9835 - val_loss: 0.0401 - val_acc: 0.9880\n"
     ]
    },
    {
     "data": {
      "text/plain": [
       "<keras.callbacks.History at 0x7f45ce467518>"
      ]
     },
     "execution_count": 35,
     "metadata": {},
     "output_type": "execute_result"
    }
   ],
   "source": [
    "model = Sequential()\n",
    "model.add(\n",
    "    Conv2D(32, kernel_size=(3, 3), activation='relu', input_shape=input_shape))\n",
    "model.add(Conv2D(64, (3, 3), activation='relu'))\n",
    "model.add(MaxPooling2D(pool_size=(2, 2)))\n",
    "model.add(Dropout(0.25))\n",
    "model.add(Flatten())\n",
    "model.add(Dense(128, activation='relu'))\n",
    "model.add(Dropout(0.5))\n",
    "model.add(Dense(num_classes, activation='softmax'))\n",
    "\n",
    "model.compile(loss=keras.losses.categorical_crossentropy,\n",
    "              optimizer=keras.optimizers.adam(),\n",
    "              metrics=['accuracy'])\n",
    "\n",
    "model.fit(x_train,\n",
    "          y_train,\n",
    "          epochs=10,\n",
    "          validation_data=(x_test, y_test))"
   ]
  },
  {
   "cell_type": "code",
   "execution_count": 36,
   "metadata": {
    "ExecuteTime": {
     "end_time": "2019-07-16T17:11:37.911017Z",
     "start_time": "2019-07-16T17:11:35.737180Z"
    }
   },
   "outputs": [
    {
     "name": "stdout",
     "output_type": "stream",
     "text": [
      "('Test loss:', 0.04007009056519119)\n",
      "('Test accuracy:', 0.988)\n"
     ]
    }
   ],
   "source": [
    "score = model.evaluate(x_test, y_test, verbose=0)\n",
    "print(('Test loss:', score[0]))\n",
    "print(('Test accuracy:', score[1]))"
   ]
  },
  {
   "cell_type": "code",
   "execution_count": null,
   "metadata": {},
   "outputs": [],
   "source": []
  },
  {
   "cell_type": "code",
   "execution_count": null,
   "metadata": {},
   "outputs": [],
   "source": []
  }
 ],
 "metadata": {
  "kernelspec": {
   "display_name": "Python 3",
   "language": "python",
   "name": "python3"
  },
  "language_info": {
   "codemirror_mode": {
    "name": "ipython",
    "version": 3
   },
   "file_extension": ".py",
   "mimetype": "text/x-python",
   "name": "python",
   "nbconvert_exporter": "python",
   "pygments_lexer": "ipython3",
   "version": "3.7.3"
  }
 },
 "nbformat": 4,
 "nbformat_minor": 2
}
