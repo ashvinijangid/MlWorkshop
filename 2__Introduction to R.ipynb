{
 "cells": [
  {
   "cell_type": "markdown",
   "metadata": {},
   "source": [
    "<div style=\"text-align: center\"><img width=150px src=\"http://upload.wikimedia.org/wikipedia/commons/thumb/1/1b/R_logo.svg/200px-R_logo.svg.png\"></div>"
   ]
  },
  {
   "cell_type": "markdown",
   "metadata": {},
   "source": [
    "# <span style=\"font-size:6vw;font-weight:800;text-shadow:2px 2px 10px #aaa\">Two Days Faculty Development Programe</span>"
   ]
  },
  {
   "cell_type": "markdown",
   "metadata": {},
   "source": [
    "# An introduction to R\n",
    "\n",
    "R is a highly extensible language and environment for statistical computing and graphics. It's distributed for free under the GNU General Public License, enjoys strong community support, and is known for its ability to produce publication-quality plots including mathematical symbols and formulae. You can learn more about R at [r-project.org](https://www.r-project.org/about.html) and [An Introduction to R](https://cran.r-project.org/doc/manuals/r-release/R-intro.html).\n",
    "\n",
    "Typically, using R typically means taking the time to set up an R environment. Azure Notebooks removes this detailed process, giving you a pre-configured environment that's ready for your R code.\n",
    "\n",
    "This notebook demonstrates R within a Jupyter notebook, using material from [Section 2 - Simple manipulations; numbers and vectors](https://cran.r-project.org/doc/manuals/r-release/R-intro.html#Simple-manipulations-numbers-and-vectors) and [Appendix A - A Sample Session](https://cran.r-project.org/doc/manuals/r-release/R-intro.html#A-sample-session) from the aforementioned *An Introduction to R* documentation. It also includes content built around the well-known `demo(graphics)` command of R, with comments converted into Markdown cells. \n",
    "\n",
    "Note that the R kernel is still in development, so some language features may not be available. To submit issues and requests for features, refer to the [Azure Notebooks GitHub repository](https://github.com/Microsoft/AzureNotebooks/issues)."
   ]
  },
  {
   "cell_type": "markdown",
   "metadata": {},
   "source": [
    "## Simple manipulations; numbers and vectors\n",
    "\n",
    "### Vectors and assignment\n",
    "\n",
    "R operates on named *data structures*. The simplest such structure is the numeric *vector*, which is a single entity consisting of an ordered collection of numbers. To set up a vector named `x`, say, consisting of five numbers, namely 10.4, 5.6, 3.1, 6.4 and 21.7, use the following R command:"
   ]
  },
  {
   "cell_type": "code",
   "execution_count": 1,
   "metadata": {
    "ExecuteTime": {
     "end_time": "2019-07-16T13:44:32.878928Z",
     "start_time": "2019-07-16T13:44:32.829Z"
    }
   },
   "outputs": [],
   "source": [
    "x <- c(10.4, 5.6, 3.1, 6.4, 21.7)"
   ]
  },
  {
   "cell_type": "markdown",
   "metadata": {},
   "source": [
    "In a notebook, the previous cell won't show any output. You can see the contents of `x` by simple running `x` in a code cell:"
   ]
  },
  {
   "cell_type": "code",
   "execution_count": 2,
   "metadata": {
    "ExecuteTime": {
     "end_time": "2019-07-16T13:44:32.900407Z",
     "start_time": "2019-07-16T13:44:32.836Z"
    }
   },
   "outputs": [
    {
     "data": {
      "text/html": [
       "<ol class=list-inline>\n",
       "\t<li>10.4</li>\n",
       "\t<li>5.6</li>\n",
       "\t<li>3.1</li>\n",
       "\t<li>6.4</li>\n",
       "\t<li>21.7</li>\n",
       "</ol>\n"
      ],
      "text/latex": [
       "\\begin{enumerate*}\n",
       "\\item 10.4\n",
       "\\item 5.6\n",
       "\\item 3.1\n",
       "\\item 6.4\n",
       "\\item 21.7\n",
       "\\end{enumerate*}\n"
      ],
      "text/markdown": [
       "1. 10.4\n",
       "2. 5.6\n",
       "3. 3.1\n",
       "4. 6.4\n",
       "5. 21.7\n",
       "\n",
       "\n"
      ],
      "text/plain": [
       "[1] 10.4  5.6  3.1  6.4 21.7"
      ]
     },
     "metadata": {},
     "output_type": "display_data"
    }
   ],
   "source": [
    "x"
   ]
  },
  {
   "cell_type": "markdown",
   "metadata": {},
   "source": [
    "`x <-` is an assignment statement using the *function* `c()`, which in this context can take an arbitrary number of vector arguments and whose value is a vector got by concatenating its arguments end to end.\n",
    "\n",
    "A number occurring by itself in an expression is taken as a vector of length one.\n",
    "\n",
    "The assignment operator (`<-`) consists of the two characters, `<` (\"less than\") and '-' (\"minus\") occurring strictly side-by-side. The operator points to the object receiving the value of the expression. In most contexts the '=' operator can be used as an alternative.\n",
    "\n",
    "Assignment can also be made using the `assign()` function (including here also the line `x` to show the value as output). The `<-` operator can be thought of as a shortcut to `assign()`."
   ]
  },
  {
   "cell_type": "code",
   "execution_count": 3,
   "metadata": {
    "ExecuteTime": {
     "end_time": "2019-07-16T13:44:32.924453Z",
     "start_time": "2019-07-16T13:44:32.841Z"
    }
   },
   "outputs": [
    {
     "data": {
      "text/html": [
       "<ol class=list-inline>\n",
       "\t<li>10.4</li>\n",
       "\t<li>5.6</li>\n",
       "\t<li>3.1</li>\n",
       "\t<li>6.4</li>\n",
       "\t<li>21.7</li>\n",
       "</ol>\n"
      ],
      "text/latex": [
       "\\begin{enumerate*}\n",
       "\\item 10.4\n",
       "\\item 5.6\n",
       "\\item 3.1\n",
       "\\item 6.4\n",
       "\\item 21.7\n",
       "\\end{enumerate*}\n"
      ],
      "text/markdown": [
       "1. 10.4\n",
       "2. 5.6\n",
       "3. 3.1\n",
       "4. 6.4\n",
       "5. 21.7\n",
       "\n",
       "\n"
      ],
      "text/plain": [
       "[1] 10.4  5.6  3.1  6.4 21.7"
      ]
     },
     "metadata": {},
     "output_type": "display_data"
    }
   ],
   "source": [
    "assign(\"x\", c(10.4, 5.6, 3.1, 6.4, 21.7))\n",
    "x"
   ]
  },
  {
   "cell_type": "markdown",
   "metadata": {},
   "source": [
    "Assignments can also be made from left to right by changing the direction of the assignment operator: "
   ]
  },
  {
   "cell_type": "code",
   "execution_count": 4,
   "metadata": {
    "ExecuteTime": {
     "end_time": "2019-07-16T13:44:32.947000Z",
     "start_time": "2019-07-16T13:44:32.846Z"
    }
   },
   "outputs": [
    {
     "data": {
      "text/html": [
       "<ol class=list-inline>\n",
       "\t<li>10.4</li>\n",
       "\t<li>5.6</li>\n",
       "\t<li>3.1</li>\n",
       "\t<li>6.4</li>\n",
       "\t<li>21.7</li>\n",
       "</ol>\n"
      ],
      "text/latex": [
       "\\begin{enumerate*}\n",
       "\\item 10.4\n",
       "\\item 5.6\n",
       "\\item 3.1\n",
       "\\item 6.4\n",
       "\\item 21.7\n",
       "\\end{enumerate*}\n"
      ],
      "text/markdown": [
       "1. 10.4\n",
       "2. 5.6\n",
       "3. 3.1\n",
       "4. 6.4\n",
       "5. 21.7\n",
       "\n",
       "\n"
      ],
      "text/plain": [
       "[1] 10.4  5.6  3.1  6.4 21.7"
      ]
     },
     "metadata": {},
     "output_type": "display_data"
    }
   ],
   "source": [
    "c(10.4, 5.6, 3.1, 6.4, 21.7) -> x\n",
    "x"
   ]
  },
  {
   "cell_type": "markdown",
   "metadata": {},
   "source": [
    "If an expression is used as a complete command, the value is printed and lost. For example, the following statement displays the reciprocals of the values in `x`, but doesn't assign those values to any variable:"
   ]
  },
  {
   "cell_type": "code",
   "execution_count": 5,
   "metadata": {
    "ExecuteTime": {
     "end_time": "2019-07-16T13:44:32.967718Z",
     "start_time": "2019-07-16T13:44:32.852Z"
    }
   },
   "outputs": [
    {
     "data": {
      "text/html": [
       "<ol class=list-inline>\n",
       "\t<li>0.0961538461538461</li>\n",
       "\t<li>0.178571428571429</li>\n",
       "\t<li>0.32258064516129</li>\n",
       "\t<li>0.15625</li>\n",
       "\t<li>0.0460829493087558</li>\n",
       "</ol>\n"
      ],
      "text/latex": [
       "\\begin{enumerate*}\n",
       "\\item 0.0961538461538461\n",
       "\\item 0.178571428571429\n",
       "\\item 0.32258064516129\n",
       "\\item 0.15625\n",
       "\\item 0.0460829493087558\n",
       "\\end{enumerate*}\n"
      ],
      "text/markdown": [
       "1. 0.0961538461538461\n",
       "2. 0.178571428571429\n",
       "3. 0.32258064516129\n",
       "4. 0.15625\n",
       "5. 0.0460829493087558\n",
       "\n",
       "\n"
      ],
      "text/plain": [
       "[1] 0.09615385 0.17857143 0.32258065 0.15625000 0.04608295"
      ]
     },
     "metadata": {},
     "output_type": "display_data"
    }
   ],
   "source": [
    "1/x"
   ]
  },
  {
   "cell_type": "markdown",
   "metadata": {},
   "source": [
    "Finally, the following code creates a vector `y` with 11 entries consisting of two copies of x with a zero in the middle place."
   ]
  },
  {
   "cell_type": "code",
   "execution_count": 6,
   "metadata": {
    "ExecuteTime": {
     "end_time": "2019-07-16T13:44:32.988297Z",
     "start_time": "2019-07-16T13:44:32.857Z"
    }
   },
   "outputs": [
    {
     "data": {
      "text/html": [
       "<ol class=list-inline>\n",
       "\t<li>10.4</li>\n",
       "\t<li>5.6</li>\n",
       "\t<li>3.1</li>\n",
       "\t<li>6.4</li>\n",
       "\t<li>21.7</li>\n",
       "\t<li>0</li>\n",
       "\t<li>10.4</li>\n",
       "\t<li>5.6</li>\n",
       "\t<li>3.1</li>\n",
       "\t<li>6.4</li>\n",
       "\t<li>21.7</li>\n",
       "</ol>\n"
      ],
      "text/latex": [
       "\\begin{enumerate*}\n",
       "\\item 10.4\n",
       "\\item 5.6\n",
       "\\item 3.1\n",
       "\\item 6.4\n",
       "\\item 21.7\n",
       "\\item 0\n",
       "\\item 10.4\n",
       "\\item 5.6\n",
       "\\item 3.1\n",
       "\\item 6.4\n",
       "\\item 21.7\n",
       "\\end{enumerate*}\n"
      ],
      "text/markdown": [
       "1. 10.4\n",
       "2. 5.6\n",
       "3. 3.1\n",
       "4. 6.4\n",
       "5. 21.7\n",
       "6. 0\n",
       "7. 10.4\n",
       "8. 5.6\n",
       "9. 3.1\n",
       "10. 6.4\n",
       "11. 21.7\n",
       "\n",
       "\n"
      ],
      "text/plain": [
       " [1] 10.4  5.6  3.1  6.4 21.7  0.0 10.4  5.6  3.1  6.4 21.7"
      ]
     },
     "metadata": {},
     "output_type": "display_data"
    }
   ],
   "source": [
    "y <- c(x, 0, x)\n",
    "y"
   ]
  },
  {
   "cell_type": "markdown",
   "metadata": {},
   "source": [
    "### Vector arithmetic\n",
    "\n",
    "Vectors can be used in arithmetic expressions, in which case the operations are performed element by element. Vectors occurring in the same expression need not all be of the same length. If they are not, the value of the expression is a vector with the same length as the longest vector which occurs in the expression. Shorter vectors in the expression are *recycled* as often as need be (perhaps fractionally) until they match the length of the longest vector. In particular, a constant is simply repeated.\n",
    "\n",
    "The following expression, using the `x` and `y` values from the previous section (which, if you ran those code cells, are in the notebook session), generates a new vector v of length 11 constructed by adding together, element by element, 2\\*x repeated 2.2 times, y repeated just once, and 1 repeated 11 times. Note that the code issues a warning because the length of y is not an integral multiple of 2\\*x."
   ]
  },
  {
   "cell_type": "code",
   "execution_count": 7,
   "metadata": {
    "ExecuteTime": {
     "end_time": "2019-07-16T13:44:33.011280Z",
     "start_time": "2019-07-16T13:44:32.862Z"
    }
   },
   "outputs": [
    {
     "name": "stderr",
     "output_type": "stream",
     "text": [
      "Warning message in 2 * x + y:\n",
      "“longer object length is not a multiple of shorter object length”"
     ]
    },
    {
     "data": {
      "text/html": [
       "<ol class=list-inline>\n",
       "\t<li>32.2</li>\n",
       "\t<li>17.8</li>\n",
       "\t<li>10.3</li>\n",
       "\t<li>20.2</li>\n",
       "\t<li>66.1</li>\n",
       "\t<li>21.8</li>\n",
       "\t<li>22.6</li>\n",
       "\t<li>12.8</li>\n",
       "\t<li>16.9</li>\n",
       "\t<li>50.8</li>\n",
       "\t<li>43.5</li>\n",
       "</ol>\n"
      ],
      "text/latex": [
       "\\begin{enumerate*}\n",
       "\\item 32.2\n",
       "\\item 17.8\n",
       "\\item 10.3\n",
       "\\item 20.2\n",
       "\\item 66.1\n",
       "\\item 21.8\n",
       "\\item 22.6\n",
       "\\item 12.8\n",
       "\\item 16.9\n",
       "\\item 50.8\n",
       "\\item 43.5\n",
       "\\end{enumerate*}\n"
      ],
      "text/markdown": [
       "1. 32.2\n",
       "2. 17.8\n",
       "3. 10.3\n",
       "4. 20.2\n",
       "5. 66.1\n",
       "6. 21.8\n",
       "7. 22.6\n",
       "8. 12.8\n",
       "9. 16.9\n",
       "10. 50.8\n",
       "11. 43.5\n",
       "\n",
       "\n"
      ],
      "text/plain": [
       " [1] 32.2 17.8 10.3 20.2 66.1 21.8 22.6 12.8 16.9 50.8 43.5"
      ]
     },
     "metadata": {},
     "output_type": "display_data"
    }
   ],
   "source": [
    "v <- 2*x + y + 1\n",
    "v"
   ]
  },
  {
   "cell_type": "markdown",
   "metadata": {},
   "source": [
    "The elementary arithmetic operators are the usual `+`, `-`, `*`, `/`, and `^` (raise to a power), along with all the common arithmetic functions: `log`, `exp`, `sin`, `cos`, `tan`, `sqrt`, and so on. `max` and `min` select the largest and smallest elements of a vector, respectively. `range(v)` returns a vector of length two, namely `c(min(x), max(x))`. `length(x)` is the number of elements in `x`, `sum(x)` gives the total of the elements in `x`, and `prod(x)` their product."
   ]
  },
  {
   "cell_type": "code",
   "execution_count": 8,
   "metadata": {
    "ExecuteTime": {
     "end_time": "2019-07-16T13:44:33.058878Z",
     "start_time": "2019-07-16T13:44:32.868Z"
    }
   },
   "outputs": [
    {
     "data": {
      "text/html": [
       "<ol class=list-inline>\n",
       "\t<li>3.47196645255036</li>\n",
       "\t<li>2.87919845729804</li>\n",
       "\t<li>2.33214389523559</li>\n",
       "\t<li>3.00568260440716</li>\n",
       "\t<li>4.19116874685764</li>\n",
       "\t<li>3.08190996979504</li>\n",
       "\t<li>3.11794990627824</li>\n",
       "\t<li>2.54944517092557</li>\n",
       "\t<li>2.82731362192903</li>\n",
       "\t<li>3.92789635458444</li>\n",
       "\t<li>3.77276093809464</li>\n",
       "</ol>\n"
      ],
      "text/latex": [
       "\\begin{enumerate*}\n",
       "\\item 3.47196645255036\n",
       "\\item 2.87919845729804\n",
       "\\item 2.33214389523559\n",
       "\\item 3.00568260440716\n",
       "\\item 4.19116874685764\n",
       "\\item 3.08190996979504\n",
       "\\item 3.11794990627824\n",
       "\\item 2.54944517092557\n",
       "\\item 2.82731362192903\n",
       "\\item 3.92789635458444\n",
       "\\item 3.77276093809464\n",
       "\\end{enumerate*}\n"
      ],
      "text/markdown": [
       "1. 3.47196645255036\n",
       "2. 2.87919845729804\n",
       "3. 2.33214389523559\n",
       "4. 3.00568260440716\n",
       "5. 4.19116874685764\n",
       "6. 3.08190996979504\n",
       "7. 3.11794990627824\n",
       "8. 2.54944517092557\n",
       "9. 2.82731362192903\n",
       "10. 3.92789635458444\n",
       "11. 3.77276093809464\n",
       "\n",
       "\n"
      ],
      "text/plain": [
       " [1] 3.471966 2.879198 2.332144 3.005683 4.191169 3.081910 3.117950 2.549445\n",
       " [9] 2.827314 3.927896 3.772761"
      ]
     },
     "metadata": {},
     "output_type": "display_data"
    },
    {
     "data": {
      "text/html": [
       "<ol class=list-inline>\n",
       "\t<li>0.706169457180334</li>\n",
       "\t<li>-0.867202179485583</li>\n",
       "\t<li>-0.767685809763582</li>\n",
       "\t<li>0.975820517766976</li>\n",
       "\t<li>-0.12621672981821</li>\n",
       "\t<li>0.189986675795438</li>\n",
       "\t<li>-0.571925655109564</li>\n",
       "\t<li>0.231509825101539</li>\n",
       "\t<li>-0.929124012734368</li>\n",
       "\t<li>0.509425937110429</li>\n",
       "\t<li>-0.463815515983827</li>\n",
       "</ol>\n"
      ],
      "text/latex": [
       "\\begin{enumerate*}\n",
       "\\item 0.706169457180334\n",
       "\\item -0.867202179485583\n",
       "\\item -0.767685809763582\n",
       "\\item 0.975820517766976\n",
       "\\item -0.12621672981821\n",
       "\\item 0.189986675795438\n",
       "\\item -0.571925655109564\n",
       "\\item 0.231509825101539\n",
       "\\item -0.929124012734368\n",
       "\\item 0.509425937110429\n",
       "\\item -0.463815515983827\n",
       "\\end{enumerate*}\n"
      ],
      "text/markdown": [
       "1. 0.706169457180334\n",
       "2. -0.867202179485583\n",
       "3. -0.767685809763582\n",
       "4. 0.975820517766976\n",
       "5. -0.12621672981821\n",
       "6. 0.189986675795438\n",
       "7. -0.571925655109564\n",
       "8. 0.231509825101539\n",
       "9. -0.929124012734368\n",
       "10. 0.509425937110429\n",
       "11. -0.463815515983827\n",
       "\n",
       "\n"
      ],
      "text/plain": [
       " [1]  0.7061695 -0.8672022 -0.7676858  0.9758205 -0.1262167  0.1899867\n",
       " [7] -0.5719257  0.2315098 -0.9291240  0.5094259 -0.4638155"
      ]
     },
     "metadata": {},
     "output_type": "display_data"
    },
    {
     "data": {
      "text/html": [
       "<ol class=list-inline>\n",
       "\t<li>5.67450438364444</li>\n",
       "\t<li>4.2190046219458</li>\n",
       "\t<li>3.20936130717624</li>\n",
       "\t<li>4.49444101084885</li>\n",
       "\t<li>8.13019064967114</li>\n",
       "\t<li>4.6690470119715</li>\n",
       "\t<li>4.75394572960189</li>\n",
       "\t<li>3.57770876399966</li>\n",
       "\t<li>4.11096095821889</li>\n",
       "\t<li>7.12741187248218</li>\n",
       "\t<li>6.59545297913646</li>\n",
       "</ol>\n"
      ],
      "text/latex": [
       "\\begin{enumerate*}\n",
       "\\item 5.67450438364444\n",
       "\\item 4.2190046219458\n",
       "\\item 3.20936130717624\n",
       "\\item 4.49444101084885\n",
       "\\item 8.13019064967114\n",
       "\\item 4.6690470119715\n",
       "\\item 4.75394572960189\n",
       "\\item 3.57770876399966\n",
       "\\item 4.11096095821889\n",
       "\\item 7.12741187248218\n",
       "\\item 6.59545297913646\n",
       "\\end{enumerate*}\n"
      ],
      "text/markdown": [
       "1. 5.67450438364444\n",
       "2. 4.2190046219458\n",
       "3. 3.20936130717624\n",
       "4. 4.49444101084885\n",
       "5. 8.13019064967114\n",
       "6. 4.6690470119715\n",
       "7. 4.75394572960189\n",
       "8. 3.57770876399966\n",
       "9. 4.11096095821889\n",
       "10. 7.12741187248218\n",
       "11. 6.59545297913646\n",
       "\n",
       "\n"
      ],
      "text/plain": [
       " [1] 5.674504 4.219005 3.209361 4.494441 8.130191 4.669047 4.753946 3.577709\n",
       " [9] 4.110961 7.127412 6.595453"
      ]
     },
     "metadata": {},
     "output_type": "display_data"
    },
    {
     "data": {
      "text/html": [
       "10.3"
      ],
      "text/latex": [
       "10.3"
      ],
      "text/markdown": [
       "10.3"
      ],
      "text/plain": [
       "[1] 10.3"
      ]
     },
     "metadata": {},
     "output_type": "display_data"
    },
    {
     "data": {
      "text/html": [
       "66.1"
      ],
      "text/latex": [
       "66.1"
      ],
      "text/markdown": [
       "66.1"
      ],
      "text/plain": [
       "[1] 66.1"
      ]
     },
     "metadata": {},
     "output_type": "display_data"
    },
    {
     "data": {
      "text/html": [
       "<ol class=list-inline>\n",
       "\t<li>10.3</li>\n",
       "\t<li>66.1</li>\n",
       "</ol>\n"
      ],
      "text/latex": [
       "\\begin{enumerate*}\n",
       "\\item 10.3\n",
       "\\item 66.1\n",
       "\\end{enumerate*}\n"
      ],
      "text/markdown": [
       "1. 10.3\n",
       "2. 66.1\n",
       "\n",
       "\n"
      ],
      "text/plain": [
       "[1] 10.3 66.1"
      ]
     },
     "metadata": {},
     "output_type": "display_data"
    },
    {
     "data": {
      "text/html": [
       "11"
      ],
      "text/latex": [
       "11"
      ],
      "text/markdown": [
       "11"
      ],
      "text/plain": [
       "[1] 11"
      ]
     },
     "metadata": {},
     "output_type": "display_data"
    },
    {
     "data": {
      "text/html": [
       "315"
      ],
      "text/latex": [
       "315"
      ],
      "text/markdown": [
       "315"
      ],
      "text/plain": [
       "[1] 315"
      ]
     },
     "metadata": {},
     "output_type": "display_data"
    },
    {
     "data": {
      "text/html": [
       "1856438232320848"
      ],
      "text/latex": [
       "1856438232320848"
      ],
      "text/markdown": [
       "1856438232320848"
      ],
      "text/plain": [
       "[1] 1.856438e+15"
      ]
     },
     "metadata": {},
     "output_type": "display_data"
    }
   ],
   "source": [
    "log(v)\n",
    "sin(v)\n",
    "sqrt(v)\n",
    "min(v)\n",
    "max(v)\n",
    "range(v)\n",
    "length(v)\n",
    "sum(v)\n",
    "prod(v)"
   ]
  },
  {
   "cell_type": "markdown",
   "metadata": {},
   "source": [
    "Two statistical functions are `mean(x)`, which calculates the sample mean and is the same as `sum(x)/length(x)`, and `var(x)` which gives the sample variance:"
   ]
  },
  {
   "cell_type": "code",
   "execution_count": 9,
   "metadata": {
    "ExecuteTime": {
     "end_time": "2019-07-16T13:44:33.077397Z",
     "start_time": "2019-07-16T13:44:32.874Z"
    }
   },
   "outputs": [
    {
     "data": {
      "text/html": [
       "53.853"
      ],
      "text/latex": [
       "53.853"
      ],
      "text/markdown": [
       "53.853"
      ],
      "text/plain": [
       "[1] 53.853"
      ]
     },
     "metadata": {},
     "output_type": "display_data"
    },
    {
     "data": {
      "text/html": [
       "53.853"
      ],
      "text/latex": [
       "53.853"
      ],
      "text/markdown": [
       "53.853"
      ],
      "text/plain": [
       "[1] 53.853"
      ]
     },
     "metadata": {},
     "output_type": "display_data"
    }
   ],
   "source": [
    "sum((x-mean(x))^2)/(length(x)-1)\n",
    "var(x)"
   ]
  },
  {
   "cell_type": "markdown",
   "metadata": {},
   "source": [
    "If the argument to `var()` is an n-by-p matrix the value is a *p*-by-*p* sample covariance matrix got by regarding the rows as independent *p*-variate sample vectors. \n",
    "\n",
    "`sort(x)` returns a vector of the same size as `x` with the elements arranged in increasing order; however there are other more flexible sorting facilities available (see `order()` or `sort.list()` which produce a permutation to do the sorting). \n",
    "\n",
    "Note that `max` and `min` select the largest and smallest values in their arguments, even if they are given several vectors. The *parallel* max/min functions `pmax` and `pmin` return a vector (of length equal to their longest argument) that contains in each element the largest (smallest) element in that position in any of the input vectors. \n",
    "\n",
    "For most purposes, you're not concerned if the \"numbers\" in a numeric vector are integers, reals or even complex. Internally calculations are done as double precision real numbers, or double precision complex numbers if the input data are complex. \n",
    "\n",
    "To work with complex numbers, supply an explicit complex part, otherwise, as the code below demonstrates, you'll see a Nan (not-a-number) warning:"
   ]
  },
  {
   "cell_type": "code",
   "execution_count": 10,
   "metadata": {
    "ExecuteTime": {
     "end_time": "2019-07-16T13:44:33.092490Z",
     "start_time": "2019-07-16T13:44:32.879Z"
    }
   },
   "outputs": [
    {
     "name": "stderr",
     "output_type": "stream",
     "text": [
      "Warning message in sqrt(-17):\n",
      "“NaNs produced”"
     ]
    },
    {
     "data": {
      "text/html": [
       "NaN"
      ],
      "text/latex": [
       "NaN"
      ],
      "text/markdown": [
       "NaN"
      ],
      "text/plain": [
       "[1] NaN"
      ]
     },
     "metadata": {},
     "output_type": "display_data"
    }
   ],
   "source": [
    "sqrt(-17)"
   ]
  },
  {
   "cell_type": "markdown",
   "metadata": {},
   "source": [
    "But the following expression performs the computation as complex numbers:"
   ]
  },
  {
   "cell_type": "code",
   "execution_count": 11,
   "metadata": {
    "ExecuteTime": {
     "end_time": "2019-07-16T13:44:33.105717Z",
     "start_time": "2019-07-16T13:44:32.885Z"
    }
   },
   "outputs": [
    {
     "data": {
      "text/html": [
       "0+4.12310562561766i"
      ],
      "text/latex": [
       "0+4.12310562561766i"
      ],
      "text/markdown": [
       "0+4.12310562561766i"
      ],
      "text/plain": [
       "[1] 0+4.123106i"
      ]
     },
     "metadata": {},
     "output_type": "display_data"
    }
   ],
   "source": [
    "sqrt(-17+0i)"
   ]
  },
  {
   "cell_type": "markdown",
   "metadata": {},
   "source": [
    "### Generating regular sequences\n",
    "\n",
    "R has a number of facilities for generating commonly used sequences of numbers. For example, the colon is a shorthand for creating a vector of sequential numbers in ascending or descending order:"
   ]
  },
  {
   "cell_type": "code",
   "execution_count": 12,
   "metadata": {
    "ExecuteTime": {
     "end_time": "2019-07-16T13:44:33.123198Z",
     "start_time": "2019-07-16T13:44:32.890Z"
    }
   },
   "outputs": [
    {
     "data": {
      "text/html": [
       "<ol class=list-inline>\n",
       "\t<li>1</li>\n",
       "\t<li>2</li>\n",
       "\t<li>3</li>\n",
       "\t<li>4</li>\n",
       "\t<li>5</li>\n",
       "\t<li>6</li>\n",
       "\t<li>7</li>\n",
       "\t<li>8</li>\n",
       "\t<li>9</li>\n",
       "\t<li>10</li>\n",
       "\t<li>11</li>\n",
       "\t<li>12</li>\n",
       "\t<li>13</li>\n",
       "\t<li>14</li>\n",
       "\t<li>15</li>\n",
       "\t<li>16</li>\n",
       "\t<li>17</li>\n",
       "\t<li>18</li>\n",
       "\t<li>19</li>\n",
       "\t<li>20</li>\n",
       "\t<li>21</li>\n",
       "\t<li>22</li>\n",
       "\t<li>23</li>\n",
       "\t<li>24</li>\n",
       "\t<li>25</li>\n",
       "\t<li>26</li>\n",
       "\t<li>27</li>\n",
       "\t<li>28</li>\n",
       "\t<li>29</li>\n",
       "\t<li>30</li>\n",
       "</ol>\n"
      ],
      "text/latex": [
       "\\begin{enumerate*}\n",
       "\\item 1\n",
       "\\item 2\n",
       "\\item 3\n",
       "\\item 4\n",
       "\\item 5\n",
       "\\item 6\n",
       "\\item 7\n",
       "\\item 8\n",
       "\\item 9\n",
       "\\item 10\n",
       "\\item 11\n",
       "\\item 12\n",
       "\\item 13\n",
       "\\item 14\n",
       "\\item 15\n",
       "\\item 16\n",
       "\\item 17\n",
       "\\item 18\n",
       "\\item 19\n",
       "\\item 20\n",
       "\\item 21\n",
       "\\item 22\n",
       "\\item 23\n",
       "\\item 24\n",
       "\\item 25\n",
       "\\item 26\n",
       "\\item 27\n",
       "\\item 28\n",
       "\\item 29\n",
       "\\item 30\n",
       "\\end{enumerate*}\n"
      ],
      "text/markdown": [
       "1. 1\n",
       "2. 2\n",
       "3. 3\n",
       "4. 4\n",
       "5. 5\n",
       "6. 6\n",
       "7. 7\n",
       "8. 8\n",
       "9. 9\n",
       "10. 10\n",
       "11. 11\n",
       "12. 12\n",
       "13. 13\n",
       "14. 14\n",
       "15. 15\n",
       "16. 16\n",
       "17. 17\n",
       "18. 18\n",
       "19. 19\n",
       "20. 20\n",
       "21. 21\n",
       "22. 22\n",
       "23. 23\n",
       "24. 24\n",
       "25. 25\n",
       "26. 26\n",
       "27. 27\n",
       "28. 28\n",
       "29. 29\n",
       "30. 30\n",
       "\n",
       "\n"
      ],
      "text/plain": [
       " [1]  1  2  3  4  5  6  7  8  9 10 11 12 13 14 15 16 17 18 19 20 21 22 23 24 25\n",
       "[26] 26 27 28 29 30"
      ]
     },
     "metadata": {},
     "output_type": "display_data"
    },
    {
     "data": {
      "text/html": [
       "<ol class=list-inline>\n",
       "\t<li>30</li>\n",
       "\t<li>29</li>\n",
       "\t<li>28</li>\n",
       "\t<li>27</li>\n",
       "\t<li>26</li>\n",
       "\t<li>25</li>\n",
       "\t<li>24</li>\n",
       "\t<li>23</li>\n",
       "\t<li>22</li>\n",
       "\t<li>21</li>\n",
       "\t<li>20</li>\n",
       "\t<li>19</li>\n",
       "\t<li>18</li>\n",
       "\t<li>17</li>\n",
       "\t<li>16</li>\n",
       "\t<li>15</li>\n",
       "\t<li>14</li>\n",
       "\t<li>13</li>\n",
       "\t<li>12</li>\n",
       "\t<li>11</li>\n",
       "\t<li>10</li>\n",
       "\t<li>9</li>\n",
       "\t<li>8</li>\n",
       "\t<li>7</li>\n",
       "\t<li>6</li>\n",
       "\t<li>5</li>\n",
       "\t<li>4</li>\n",
       "\t<li>3</li>\n",
       "\t<li>2</li>\n",
       "\t<li>1</li>\n",
       "</ol>\n"
      ],
      "text/latex": [
       "\\begin{enumerate*}\n",
       "\\item 30\n",
       "\\item 29\n",
       "\\item 28\n",
       "\\item 27\n",
       "\\item 26\n",
       "\\item 25\n",
       "\\item 24\n",
       "\\item 23\n",
       "\\item 22\n",
       "\\item 21\n",
       "\\item 20\n",
       "\\item 19\n",
       "\\item 18\n",
       "\\item 17\n",
       "\\item 16\n",
       "\\item 15\n",
       "\\item 14\n",
       "\\item 13\n",
       "\\item 12\n",
       "\\item 11\n",
       "\\item 10\n",
       "\\item 9\n",
       "\\item 8\n",
       "\\item 7\n",
       "\\item 6\n",
       "\\item 5\n",
       "\\item 4\n",
       "\\item 3\n",
       "\\item 2\n",
       "\\item 1\n",
       "\\end{enumerate*}\n"
      ],
      "text/markdown": [
       "1. 30\n",
       "2. 29\n",
       "3. 28\n",
       "4. 27\n",
       "5. 26\n",
       "6. 25\n",
       "7. 24\n",
       "8. 23\n",
       "9. 22\n",
       "10. 21\n",
       "11. 20\n",
       "12. 19\n",
       "13. 18\n",
       "14. 17\n",
       "15. 16\n",
       "16. 15\n",
       "17. 14\n",
       "18. 13\n",
       "19. 12\n",
       "20. 11\n",
       "21. 10\n",
       "22. 9\n",
       "23. 8\n",
       "24. 7\n",
       "25. 6\n",
       "26. 5\n",
       "27. 4\n",
       "28. 3\n",
       "29. 2\n",
       "30. 1\n",
       "\n",
       "\n"
      ],
      "text/plain": [
       " [1] 30 29 28 27 26 25 24 23 22 21 20 19 18 17 16 15 14 13 12 11 10  9  8  7  6\n",
       "[26]  5  4  3  2  1"
      ]
     },
     "metadata": {},
     "output_type": "display_data"
    }
   ],
   "source": [
    "1:30\n",
    "30:1"
   ]
  },
  {
   "cell_type": "markdown",
   "metadata": {},
   "source": [
    "`1:30` is equivalent to writing `c(1, 2, 3, ..., 30)`, and a lot less tedious!\n",
    "\n",
    "Within expressions, the colon has a higher precedence than other operators except parenthases:"
   ]
  },
  {
   "cell_type": "code",
   "execution_count": 13,
   "metadata": {
    "ExecuteTime": {
     "end_time": "2019-07-16T13:44:33.151867Z",
     "start_time": "2019-07-16T13:44:32.896Z"
    }
   },
   "outputs": [
    {
     "data": {
      "text/html": [
       "<ol class=list-inline>\n",
       "\t<li>2</li>\n",
       "\t<li>4</li>\n",
       "\t<li>6</li>\n",
       "\t<li>8</li>\n",
       "\t<li>10</li>\n",
       "\t<li>12</li>\n",
       "\t<li>14</li>\n",
       "\t<li>16</li>\n",
       "\t<li>18</li>\n",
       "\t<li>20</li>\n",
       "\t<li>22</li>\n",
       "\t<li>24</li>\n",
       "\t<li>26</li>\n",
       "\t<li>28</li>\n",
       "\t<li>30</li>\n",
       "</ol>\n"
      ],
      "text/latex": [
       "\\begin{enumerate*}\n",
       "\\item 2\n",
       "\\item 4\n",
       "\\item 6\n",
       "\\item 8\n",
       "\\item 10\n",
       "\\item 12\n",
       "\\item 14\n",
       "\\item 16\n",
       "\\item 18\n",
       "\\item 20\n",
       "\\item 22\n",
       "\\item 24\n",
       "\\item 26\n",
       "\\item 28\n",
       "\\item 30\n",
       "\\end{enumerate*}\n"
      ],
      "text/markdown": [
       "1. 2\n",
       "2. 4\n",
       "3. 6\n",
       "4. 8\n",
       "5. 10\n",
       "6. 12\n",
       "7. 14\n",
       "8. 16\n",
       "9. 18\n",
       "10. 20\n",
       "11. 22\n",
       "12. 24\n",
       "13. 26\n",
       "14. 28\n",
       "15. 30\n",
       "\n",
       "\n"
      ],
      "text/plain": [
       " [1]  2  4  6  8 10 12 14 16 18 20 22 24 26 28 30"
      ]
     },
     "metadata": {},
     "output_type": "display_data"
    },
    {
     "data": {
      "text/html": [
       "<ol class=list-inline>\n",
       "\t<li>0</li>\n",
       "\t<li>1</li>\n",
       "\t<li>2</li>\n",
       "\t<li>3</li>\n",
       "\t<li>4</li>\n",
       "\t<li>5</li>\n",
       "\t<li>6</li>\n",
       "\t<li>7</li>\n",
       "\t<li>8</li>\n",
       "\t<li>9</li>\n",
       "</ol>\n"
      ],
      "text/latex": [
       "\\begin{enumerate*}\n",
       "\\item 0\n",
       "\\item 1\n",
       "\\item 2\n",
       "\\item 3\n",
       "\\item 4\n",
       "\\item 5\n",
       "\\item 6\n",
       "\\item 7\n",
       "\\item 8\n",
       "\\item 9\n",
       "\\end{enumerate*}\n"
      ],
      "text/markdown": [
       "1. 0\n",
       "2. 1\n",
       "3. 2\n",
       "4. 3\n",
       "5. 4\n",
       "6. 5\n",
       "7. 6\n",
       "8. 7\n",
       "9. 8\n",
       "10. 9\n",
       "\n",
       "\n"
      ],
      "text/plain": [
       " [1] 0 1 2 3 4 5 6 7 8 9"
      ]
     },
     "metadata": {},
     "output_type": "display_data"
    },
    {
     "data": {
      "text/html": [
       "<ol class=list-inline>\n",
       "\t<li>1</li>\n",
       "\t<li>2</li>\n",
       "\t<li>3</li>\n",
       "\t<li>4</li>\n",
       "\t<li>5</li>\n",
       "\t<li>6</li>\n",
       "\t<li>7</li>\n",
       "\t<li>8</li>\n",
       "\t<li>9</li>\n",
       "</ol>\n"
      ],
      "text/latex": [
       "\\begin{enumerate*}\n",
       "\\item 1\n",
       "\\item 2\n",
       "\\item 3\n",
       "\\item 4\n",
       "\\item 5\n",
       "\\item 6\n",
       "\\item 7\n",
       "\\item 8\n",
       "\\item 9\n",
       "\\end{enumerate*}\n"
      ],
      "text/markdown": [
       "1. 1\n",
       "2. 2\n",
       "3. 3\n",
       "4. 4\n",
       "5. 5\n",
       "6. 6\n",
       "7. 7\n",
       "8. 8\n",
       "9. 9\n",
       "\n",
       "\n"
      ],
      "text/plain": [
       "[1] 1 2 3 4 5 6 7 8 9"
      ]
     },
     "metadata": {},
     "output_type": "display_data"
    }
   ],
   "source": [
    "2*1:15\n",
    "\n",
    "n <- 10\n",
    "1:n-1\n",
    "1:(n-1)"
   ]
  },
  {
   "cell_type": "markdown",
   "metadata": {},
   "source": [
    "The `seq()` function is a more general means for generating sequences. It has five arguments, only some of which may be specified in any one call. The first two arguments, if given, specify the beginning and end of the sequence, and if these are the only two arguments given the result is the same as the colon operator. For example, `seq(2,10)` is the same vector as `2:10`. "
   ]
  },
  {
   "cell_type": "code",
   "execution_count": 14,
   "metadata": {
    "ExecuteTime": {
     "end_time": "2019-07-16T13:44:33.171421Z",
     "start_time": "2019-07-16T13:44:32.901Z"
    }
   },
   "outputs": [
    {
     "data": {
      "text/html": [
       "<ol class=list-inline>\n",
       "\t<li>2</li>\n",
       "\t<li>3</li>\n",
       "\t<li>4</li>\n",
       "\t<li>5</li>\n",
       "\t<li>6</li>\n",
       "\t<li>7</li>\n",
       "\t<li>8</li>\n",
       "\t<li>9</li>\n",
       "\t<li>10</li>\n",
       "</ol>\n"
      ],
      "text/latex": [
       "\\begin{enumerate*}\n",
       "\\item 2\n",
       "\\item 3\n",
       "\\item 4\n",
       "\\item 5\n",
       "\\item 6\n",
       "\\item 7\n",
       "\\item 8\n",
       "\\item 9\n",
       "\\item 10\n",
       "\\end{enumerate*}\n"
      ],
      "text/markdown": [
       "1. 2\n",
       "2. 3\n",
       "3. 4\n",
       "4. 5\n",
       "5. 6\n",
       "6. 7\n",
       "7. 8\n",
       "8. 9\n",
       "9. 10\n",
       "\n",
       "\n"
      ],
      "text/plain": [
       "[1]  2  3  4  5  6  7  8  9 10"
      ]
     },
     "metadata": {},
     "output_type": "display_data"
    },
    {
     "data": {
      "text/html": [
       "<ol class=list-inline>\n",
       "\t<li>2</li>\n",
       "\t<li>3</li>\n",
       "\t<li>4</li>\n",
       "\t<li>5</li>\n",
       "\t<li>6</li>\n",
       "\t<li>7</li>\n",
       "\t<li>8</li>\n",
       "\t<li>9</li>\n",
       "\t<li>10</li>\n",
       "</ol>\n"
      ],
      "text/latex": [
       "\\begin{enumerate*}\n",
       "\\item 2\n",
       "\\item 3\n",
       "\\item 4\n",
       "\\item 5\n",
       "\\item 6\n",
       "\\item 7\n",
       "\\item 8\n",
       "\\item 9\n",
       "\\item 10\n",
       "\\end{enumerate*}\n"
      ],
      "text/markdown": [
       "1. 2\n",
       "2. 3\n",
       "3. 4\n",
       "4. 5\n",
       "5. 6\n",
       "6. 7\n",
       "7. 8\n",
       "8. 9\n",
       "9. 10\n",
       "\n",
       "\n"
      ],
      "text/plain": [
       "[1]  2  3  4  5  6  7  8  9 10"
      ]
     },
     "metadata": {},
     "output_type": "display_data"
    }
   ],
   "source": [
    "seq(2,10)\n",
    "2:10"
   ]
  },
  {
   "cell_type": "markdown",
   "metadata": {},
   "source": [
    "Arguments to `seq()`, and to many other R functions, can also be given in named form, in which case the order in which they appear is irrelevant. With `seq()`, the first two arguments may be named `from=value` and `to=value`; thus the following expressions are all identical:"
   ]
  },
  {
   "cell_type": "code",
   "execution_count": 15,
   "metadata": {
    "ExecuteTime": {
     "end_time": "2019-07-16T13:44:33.197239Z",
     "start_time": "2019-07-16T13:44:32.908Z"
    }
   },
   "outputs": [
    {
     "data": {
      "text/html": [
       "<ol class=list-inline>\n",
       "\t<li>1</li>\n",
       "\t<li>2</li>\n",
       "\t<li>3</li>\n",
       "\t<li>4</li>\n",
       "\t<li>5</li>\n",
       "\t<li>6</li>\n",
       "\t<li>7</li>\n",
       "\t<li>8</li>\n",
       "\t<li>9</li>\n",
       "\t<li>10</li>\n",
       "\t<li>11</li>\n",
       "\t<li>12</li>\n",
       "\t<li>13</li>\n",
       "\t<li>14</li>\n",
       "\t<li>15</li>\n",
       "\t<li>16</li>\n",
       "\t<li>17</li>\n",
       "\t<li>18</li>\n",
       "\t<li>19</li>\n",
       "\t<li>20</li>\n",
       "\t<li>21</li>\n",
       "\t<li>22</li>\n",
       "\t<li>23</li>\n",
       "\t<li>24</li>\n",
       "\t<li>25</li>\n",
       "\t<li>26</li>\n",
       "\t<li>27</li>\n",
       "\t<li>28</li>\n",
       "\t<li>29</li>\n",
       "\t<li>30</li>\n",
       "</ol>\n"
      ],
      "text/latex": [
       "\\begin{enumerate*}\n",
       "\\item 1\n",
       "\\item 2\n",
       "\\item 3\n",
       "\\item 4\n",
       "\\item 5\n",
       "\\item 6\n",
       "\\item 7\n",
       "\\item 8\n",
       "\\item 9\n",
       "\\item 10\n",
       "\\item 11\n",
       "\\item 12\n",
       "\\item 13\n",
       "\\item 14\n",
       "\\item 15\n",
       "\\item 16\n",
       "\\item 17\n",
       "\\item 18\n",
       "\\item 19\n",
       "\\item 20\n",
       "\\item 21\n",
       "\\item 22\n",
       "\\item 23\n",
       "\\item 24\n",
       "\\item 25\n",
       "\\item 26\n",
       "\\item 27\n",
       "\\item 28\n",
       "\\item 29\n",
       "\\item 30\n",
       "\\end{enumerate*}\n"
      ],
      "text/markdown": [
       "1. 1\n",
       "2. 2\n",
       "3. 3\n",
       "4. 4\n",
       "5. 5\n",
       "6. 6\n",
       "7. 7\n",
       "8. 8\n",
       "9. 9\n",
       "10. 10\n",
       "11. 11\n",
       "12. 12\n",
       "13. 13\n",
       "14. 14\n",
       "15. 15\n",
       "16. 16\n",
       "17. 17\n",
       "18. 18\n",
       "19. 19\n",
       "20. 20\n",
       "21. 21\n",
       "22. 22\n",
       "23. 23\n",
       "24. 24\n",
       "25. 25\n",
       "26. 26\n",
       "27. 27\n",
       "28. 28\n",
       "29. 29\n",
       "30. 30\n",
       "\n",
       "\n"
      ],
      "text/plain": [
       " [1]  1  2  3  4  5  6  7  8  9 10 11 12 13 14 15 16 17 18 19 20 21 22 23 24 25\n",
       "[26] 26 27 28 29 30"
      ]
     },
     "metadata": {},
     "output_type": "display_data"
    },
    {
     "data": {
      "text/html": [
       "<ol class=list-inline>\n",
       "\t<li>1</li>\n",
       "\t<li>2</li>\n",
       "\t<li>3</li>\n",
       "\t<li>4</li>\n",
       "\t<li>5</li>\n",
       "\t<li>6</li>\n",
       "\t<li>7</li>\n",
       "\t<li>8</li>\n",
       "\t<li>9</li>\n",
       "\t<li>10</li>\n",
       "\t<li>11</li>\n",
       "\t<li>12</li>\n",
       "\t<li>13</li>\n",
       "\t<li>14</li>\n",
       "\t<li>15</li>\n",
       "\t<li>16</li>\n",
       "\t<li>17</li>\n",
       "\t<li>18</li>\n",
       "\t<li>19</li>\n",
       "\t<li>20</li>\n",
       "\t<li>21</li>\n",
       "\t<li>22</li>\n",
       "\t<li>23</li>\n",
       "\t<li>24</li>\n",
       "\t<li>25</li>\n",
       "\t<li>26</li>\n",
       "\t<li>27</li>\n",
       "\t<li>28</li>\n",
       "\t<li>29</li>\n",
       "\t<li>30</li>\n",
       "</ol>\n"
      ],
      "text/latex": [
       "\\begin{enumerate*}\n",
       "\\item 1\n",
       "\\item 2\n",
       "\\item 3\n",
       "\\item 4\n",
       "\\item 5\n",
       "\\item 6\n",
       "\\item 7\n",
       "\\item 8\n",
       "\\item 9\n",
       "\\item 10\n",
       "\\item 11\n",
       "\\item 12\n",
       "\\item 13\n",
       "\\item 14\n",
       "\\item 15\n",
       "\\item 16\n",
       "\\item 17\n",
       "\\item 18\n",
       "\\item 19\n",
       "\\item 20\n",
       "\\item 21\n",
       "\\item 22\n",
       "\\item 23\n",
       "\\item 24\n",
       "\\item 25\n",
       "\\item 26\n",
       "\\item 27\n",
       "\\item 28\n",
       "\\item 29\n",
       "\\item 30\n",
       "\\end{enumerate*}\n"
      ],
      "text/markdown": [
       "1. 1\n",
       "2. 2\n",
       "3. 3\n",
       "4. 4\n",
       "5. 5\n",
       "6. 6\n",
       "7. 7\n",
       "8. 8\n",
       "9. 9\n",
       "10. 10\n",
       "11. 11\n",
       "12. 12\n",
       "13. 13\n",
       "14. 14\n",
       "15. 15\n",
       "16. 16\n",
       "17. 17\n",
       "18. 18\n",
       "19. 19\n",
       "20. 20\n",
       "21. 21\n",
       "22. 22\n",
       "23. 23\n",
       "24. 24\n",
       "25. 25\n",
       "26. 26\n",
       "27. 27\n",
       "28. 28\n",
       "29. 29\n",
       "30. 30\n",
       "\n",
       "\n"
      ],
      "text/plain": [
       " [1]  1  2  3  4  5  6  7  8  9 10 11 12 13 14 15 16 17 18 19 20 21 22 23 24 25\n",
       "[26] 26 27 28 29 30"
      ]
     },
     "metadata": {},
     "output_type": "display_data"
    },
    {
     "data": {
      "text/html": [
       "<ol class=list-inline>\n",
       "\t<li>1</li>\n",
       "\t<li>2</li>\n",
       "\t<li>3</li>\n",
       "\t<li>4</li>\n",
       "\t<li>5</li>\n",
       "\t<li>6</li>\n",
       "\t<li>7</li>\n",
       "\t<li>8</li>\n",
       "\t<li>9</li>\n",
       "\t<li>10</li>\n",
       "\t<li>11</li>\n",
       "\t<li>12</li>\n",
       "\t<li>13</li>\n",
       "\t<li>14</li>\n",
       "\t<li>15</li>\n",
       "\t<li>16</li>\n",
       "\t<li>17</li>\n",
       "\t<li>18</li>\n",
       "\t<li>19</li>\n",
       "\t<li>20</li>\n",
       "\t<li>21</li>\n",
       "\t<li>22</li>\n",
       "\t<li>23</li>\n",
       "\t<li>24</li>\n",
       "\t<li>25</li>\n",
       "\t<li>26</li>\n",
       "\t<li>27</li>\n",
       "\t<li>28</li>\n",
       "\t<li>29</li>\n",
       "\t<li>30</li>\n",
       "</ol>\n"
      ],
      "text/latex": [
       "\\begin{enumerate*}\n",
       "\\item 1\n",
       "\\item 2\n",
       "\\item 3\n",
       "\\item 4\n",
       "\\item 5\n",
       "\\item 6\n",
       "\\item 7\n",
       "\\item 8\n",
       "\\item 9\n",
       "\\item 10\n",
       "\\item 11\n",
       "\\item 12\n",
       "\\item 13\n",
       "\\item 14\n",
       "\\item 15\n",
       "\\item 16\n",
       "\\item 17\n",
       "\\item 18\n",
       "\\item 19\n",
       "\\item 20\n",
       "\\item 21\n",
       "\\item 22\n",
       "\\item 23\n",
       "\\item 24\n",
       "\\item 25\n",
       "\\item 26\n",
       "\\item 27\n",
       "\\item 28\n",
       "\\item 29\n",
       "\\item 30\n",
       "\\end{enumerate*}\n"
      ],
      "text/markdown": [
       "1. 1\n",
       "2. 2\n",
       "3. 3\n",
       "4. 4\n",
       "5. 5\n",
       "6. 6\n",
       "7. 7\n",
       "8. 8\n",
       "9. 9\n",
       "10. 10\n",
       "11. 11\n",
       "12. 12\n",
       "13. 13\n",
       "14. 14\n",
       "15. 15\n",
       "16. 16\n",
       "17. 17\n",
       "18. 18\n",
       "19. 19\n",
       "20. 20\n",
       "21. 21\n",
       "22. 22\n",
       "23. 23\n",
       "24. 24\n",
       "25. 25\n",
       "26. 26\n",
       "27. 27\n",
       "28. 28\n",
       "29. 29\n",
       "30. 30\n",
       "\n",
       "\n"
      ],
      "text/plain": [
       " [1]  1  2  3  4  5  6  7  8  9 10 11 12 13 14 15 16 17 18 19 20 21 22 23 24 25\n",
       "[26] 26 27 28 29 30"
      ]
     },
     "metadata": {},
     "output_type": "display_data"
    },
    {
     "data": {
      "text/html": [
       "<ol class=list-inline>\n",
       "\t<li>1</li>\n",
       "\t<li>2</li>\n",
       "\t<li>3</li>\n",
       "\t<li>4</li>\n",
       "\t<li>5</li>\n",
       "\t<li>6</li>\n",
       "\t<li>7</li>\n",
       "\t<li>8</li>\n",
       "\t<li>9</li>\n",
       "\t<li>10</li>\n",
       "\t<li>11</li>\n",
       "\t<li>12</li>\n",
       "\t<li>13</li>\n",
       "\t<li>14</li>\n",
       "\t<li>15</li>\n",
       "\t<li>16</li>\n",
       "\t<li>17</li>\n",
       "\t<li>18</li>\n",
       "\t<li>19</li>\n",
       "\t<li>20</li>\n",
       "\t<li>21</li>\n",
       "\t<li>22</li>\n",
       "\t<li>23</li>\n",
       "\t<li>24</li>\n",
       "\t<li>25</li>\n",
       "\t<li>26</li>\n",
       "\t<li>27</li>\n",
       "\t<li>28</li>\n",
       "\t<li>29</li>\n",
       "\t<li>30</li>\n",
       "</ol>\n"
      ],
      "text/latex": [
       "\\begin{enumerate*}\n",
       "\\item 1\n",
       "\\item 2\n",
       "\\item 3\n",
       "\\item 4\n",
       "\\item 5\n",
       "\\item 6\n",
       "\\item 7\n",
       "\\item 8\n",
       "\\item 9\n",
       "\\item 10\n",
       "\\item 11\n",
       "\\item 12\n",
       "\\item 13\n",
       "\\item 14\n",
       "\\item 15\n",
       "\\item 16\n",
       "\\item 17\n",
       "\\item 18\n",
       "\\item 19\n",
       "\\item 20\n",
       "\\item 21\n",
       "\\item 22\n",
       "\\item 23\n",
       "\\item 24\n",
       "\\item 25\n",
       "\\item 26\n",
       "\\item 27\n",
       "\\item 28\n",
       "\\item 29\n",
       "\\item 30\n",
       "\\end{enumerate*}\n"
      ],
      "text/markdown": [
       "1. 1\n",
       "2. 2\n",
       "3. 3\n",
       "4. 4\n",
       "5. 5\n",
       "6. 6\n",
       "7. 7\n",
       "8. 8\n",
       "9. 9\n",
       "10. 10\n",
       "11. 11\n",
       "12. 12\n",
       "13. 13\n",
       "14. 14\n",
       "15. 15\n",
       "16. 16\n",
       "17. 17\n",
       "18. 18\n",
       "19. 19\n",
       "20. 20\n",
       "21. 21\n",
       "22. 22\n",
       "23. 23\n",
       "24. 24\n",
       "25. 25\n",
       "26. 26\n",
       "27. 27\n",
       "28. 28\n",
       "29. 29\n",
       "30. 30\n",
       "\n",
       "\n"
      ],
      "text/plain": [
       " [1]  1  2  3  4  5  6  7  8  9 10 11 12 13 14 15 16 17 18 19 20 21 22 23 24 25\n",
       "[26] 26 27 28 29 30"
      ]
     },
     "metadata": {},
     "output_type": "display_data"
    }
   ],
   "source": [
    "seq(1,30)\n",
    "seq(from=1, to=30)\n",
    "seq(to=30, from=1)\n",
    "1:30"
   ]
  },
  {
   "cell_type": "markdown",
   "metadata": {},
   "source": [
    "The next two arguments to `seq()` may be named `by=value` and `length=value`, which specify a step size and a length for the sequence respectively. If neither of these is given, the default `by=1` is assumed. For example:"
   ]
  },
  {
   "cell_type": "code",
   "execution_count": 16,
   "metadata": {
    "ExecuteTime": {
     "end_time": "2019-07-16T13:44:33.218026Z",
     "start_time": "2019-07-16T13:44:32.913Z"
    }
   },
   "outputs": [
    {
     "data": {
      "text/html": [
       "<ol class=list-inline>\n",
       "\t<li>-5</li>\n",
       "\t<li>-4.8</li>\n",
       "\t<li>-4.6</li>\n",
       "\t<li>-4.4</li>\n",
       "\t<li>-4.2</li>\n",
       "\t<li>-4</li>\n",
       "\t<li>-3.8</li>\n",
       "\t<li>-3.6</li>\n",
       "\t<li>-3.4</li>\n",
       "\t<li>-3.2</li>\n",
       "\t<li>-3</li>\n",
       "\t<li>-2.8</li>\n",
       "\t<li>-2.6</li>\n",
       "\t<li>-2.4</li>\n",
       "\t<li>-2.2</li>\n",
       "\t<li>-2</li>\n",
       "\t<li>-1.8</li>\n",
       "\t<li>-1.6</li>\n",
       "\t<li>-1.4</li>\n",
       "\t<li>-1.2</li>\n",
       "\t<li>-1</li>\n",
       "\t<li>-0.8</li>\n",
       "\t<li>-0.6</li>\n",
       "\t<li>-0.399999999999999</li>\n",
       "\t<li>-0.199999999999999</li>\n",
       "\t<li>0</li>\n",
       "\t<li>0.2</li>\n",
       "\t<li>0.4</li>\n",
       "\t<li>0.600000000000001</li>\n",
       "\t<li>0.800000000000001</li>\n",
       "\t<li>1</li>\n",
       "\t<li>1.2</li>\n",
       "\t<li>1.4</li>\n",
       "\t<li>1.6</li>\n",
       "\t<li>1.8</li>\n",
       "\t<li>2</li>\n",
       "\t<li>2.2</li>\n",
       "\t<li>2.4</li>\n",
       "\t<li>2.6</li>\n",
       "\t<li>2.8</li>\n",
       "\t<li>3</li>\n",
       "\t<li>3.2</li>\n",
       "\t<li>3.4</li>\n",
       "\t<li>3.6</li>\n",
       "\t<li>3.8</li>\n",
       "\t<li>4</li>\n",
       "\t<li>4.2</li>\n",
       "\t<li>4.4</li>\n",
       "\t<li>4.6</li>\n",
       "\t<li>4.8</li>\n",
       "\t<li>5</li>\n",
       "</ol>\n"
      ],
      "text/latex": [
       "\\begin{enumerate*}\n",
       "\\item -5\n",
       "\\item -4.8\n",
       "\\item -4.6\n",
       "\\item -4.4\n",
       "\\item -4.2\n",
       "\\item -4\n",
       "\\item -3.8\n",
       "\\item -3.6\n",
       "\\item -3.4\n",
       "\\item -3.2\n",
       "\\item -3\n",
       "\\item -2.8\n",
       "\\item -2.6\n",
       "\\item -2.4\n",
       "\\item -2.2\n",
       "\\item -2\n",
       "\\item -1.8\n",
       "\\item -1.6\n",
       "\\item -1.4\n",
       "\\item -1.2\n",
       "\\item -1\n",
       "\\item -0.8\n",
       "\\item -0.6\n",
       "\\item -0.399999999999999\n",
       "\\item -0.199999999999999\n",
       "\\item 0\n",
       "\\item 0.2\n",
       "\\item 0.4\n",
       "\\item 0.600000000000001\n",
       "\\item 0.800000000000001\n",
       "\\item 1\n",
       "\\item 1.2\n",
       "\\item 1.4\n",
       "\\item 1.6\n",
       "\\item 1.8\n",
       "\\item 2\n",
       "\\item 2.2\n",
       "\\item 2.4\n",
       "\\item 2.6\n",
       "\\item 2.8\n",
       "\\item 3\n",
       "\\item 3.2\n",
       "\\item 3.4\n",
       "\\item 3.6\n",
       "\\item 3.8\n",
       "\\item 4\n",
       "\\item 4.2\n",
       "\\item 4.4\n",
       "\\item 4.6\n",
       "\\item 4.8\n",
       "\\item 5\n",
       "\\end{enumerate*}\n"
      ],
      "text/markdown": [
       "1. -5\n",
       "2. -4.8\n",
       "3. -4.6\n",
       "4. -4.4\n",
       "5. -4.2\n",
       "6. -4\n",
       "7. -3.8\n",
       "8. -3.6\n",
       "9. -3.4\n",
       "10. -3.2\n",
       "11. -3\n",
       "12. -2.8\n",
       "13. -2.6\n",
       "14. -2.4\n",
       "15. -2.2\n",
       "16. -2\n",
       "17. -1.8\n",
       "18. -1.6\n",
       "19. -1.4\n",
       "20. -1.2\n",
       "21. -1\n",
       "22. -0.8\n",
       "23. -0.6\n",
       "24. -0.399999999999999\n",
       "25. -0.199999999999999\n",
       "26. 0\n",
       "27. 0.2\n",
       "28. 0.4\n",
       "29. 0.600000000000001\n",
       "30. 0.800000000000001\n",
       "31. 1\n",
       "32. 1.2\n",
       "33. 1.4\n",
       "34. 1.6\n",
       "35. 1.8\n",
       "36. 2\n",
       "37. 2.2\n",
       "38. 2.4\n",
       "39. 2.6\n",
       "40. 2.8\n",
       "41. 3\n",
       "42. 3.2\n",
       "43. 3.4\n",
       "44. 3.6\n",
       "45. 3.8\n",
       "46. 4\n",
       "47. 4.2\n",
       "48. 4.4\n",
       "49. 4.6\n",
       "50. 4.8\n",
       "51. 5\n",
       "\n",
       "\n"
      ],
      "text/plain": [
       " [1] -5.0 -4.8 -4.6 -4.4 -4.2 -4.0 -3.8 -3.6 -3.4 -3.2 -3.0 -2.8 -2.6 -2.4 -2.2\n",
       "[16] -2.0 -1.8 -1.6 -1.4 -1.2 -1.0 -0.8 -0.6 -0.4 -0.2  0.0  0.2  0.4  0.6  0.8\n",
       "[31]  1.0  1.2  1.4  1.6  1.8  2.0  2.2  2.4  2.6  2.8  3.0  3.2  3.4  3.6  3.8\n",
       "[46]  4.0  4.2  4.4  4.6  4.8  5.0"
      ]
     },
     "metadata": {},
     "output_type": "display_data"
    },
    {
     "data": {
      "text/html": [
       "<ol class=list-inline>\n",
       "\t<li>-5</li>\n",
       "\t<li>-4.8</li>\n",
       "\t<li>-4.6</li>\n",
       "\t<li>-4.4</li>\n",
       "\t<li>-4.2</li>\n",
       "\t<li>-4</li>\n",
       "\t<li>-3.8</li>\n",
       "\t<li>-3.6</li>\n",
       "\t<li>-3.4</li>\n",
       "\t<li>-3.2</li>\n",
       "\t<li>-3</li>\n",
       "\t<li>-2.8</li>\n",
       "\t<li>-2.6</li>\n",
       "\t<li>-2.4</li>\n",
       "\t<li>-2.2</li>\n",
       "\t<li>-2</li>\n",
       "\t<li>-1.8</li>\n",
       "\t<li>-1.6</li>\n",
       "\t<li>-1.4</li>\n",
       "\t<li>-1.2</li>\n",
       "\t<li>-1</li>\n",
       "\t<li>-0.8</li>\n",
       "\t<li>-0.6</li>\n",
       "\t<li>-0.399999999999999</li>\n",
       "\t<li>-0.199999999999999</li>\n",
       "\t<li>0</li>\n",
       "\t<li>0.2</li>\n",
       "\t<li>0.4</li>\n",
       "\t<li>0.600000000000001</li>\n",
       "\t<li>0.800000000000001</li>\n",
       "\t<li>1</li>\n",
       "\t<li>1.2</li>\n",
       "\t<li>1.4</li>\n",
       "\t<li>1.6</li>\n",
       "\t<li>1.8</li>\n",
       "\t<li>2</li>\n",
       "\t<li>2.2</li>\n",
       "\t<li>2.4</li>\n",
       "\t<li>2.6</li>\n",
       "\t<li>2.8</li>\n",
       "\t<li>3</li>\n",
       "\t<li>3.2</li>\n",
       "\t<li>3.4</li>\n",
       "\t<li>3.6</li>\n",
       "\t<li>3.8</li>\n",
       "\t<li>4</li>\n",
       "\t<li>4.2</li>\n",
       "\t<li>4.4</li>\n",
       "\t<li>4.6</li>\n",
       "\t<li>4.8</li>\n",
       "\t<li>5</li>\n",
       "</ol>\n"
      ],
      "text/latex": [
       "\\begin{enumerate*}\n",
       "\\item -5\n",
       "\\item -4.8\n",
       "\\item -4.6\n",
       "\\item -4.4\n",
       "\\item -4.2\n",
       "\\item -4\n",
       "\\item -3.8\n",
       "\\item -3.6\n",
       "\\item -3.4\n",
       "\\item -3.2\n",
       "\\item -3\n",
       "\\item -2.8\n",
       "\\item -2.6\n",
       "\\item -2.4\n",
       "\\item -2.2\n",
       "\\item -2\n",
       "\\item -1.8\n",
       "\\item -1.6\n",
       "\\item -1.4\n",
       "\\item -1.2\n",
       "\\item -1\n",
       "\\item -0.8\n",
       "\\item -0.6\n",
       "\\item -0.399999999999999\n",
       "\\item -0.199999999999999\n",
       "\\item 0\n",
       "\\item 0.2\n",
       "\\item 0.4\n",
       "\\item 0.600000000000001\n",
       "\\item 0.800000000000001\n",
       "\\item 1\n",
       "\\item 1.2\n",
       "\\item 1.4\n",
       "\\item 1.6\n",
       "\\item 1.8\n",
       "\\item 2\n",
       "\\item 2.2\n",
       "\\item 2.4\n",
       "\\item 2.6\n",
       "\\item 2.8\n",
       "\\item 3\n",
       "\\item 3.2\n",
       "\\item 3.4\n",
       "\\item 3.6\n",
       "\\item 3.8\n",
       "\\item 4\n",
       "\\item 4.2\n",
       "\\item 4.4\n",
       "\\item 4.6\n",
       "\\item 4.8\n",
       "\\item 5\n",
       "\\end{enumerate*}\n"
      ],
      "text/markdown": [
       "1. -5\n",
       "2. -4.8\n",
       "3. -4.6\n",
       "4. -4.4\n",
       "5. -4.2\n",
       "6. -4\n",
       "7. -3.8\n",
       "8. -3.6\n",
       "9. -3.4\n",
       "10. -3.2\n",
       "11. -3\n",
       "12. -2.8\n",
       "13. -2.6\n",
       "14. -2.4\n",
       "15. -2.2\n",
       "16. -2\n",
       "17. -1.8\n",
       "18. -1.6\n",
       "19. -1.4\n",
       "20. -1.2\n",
       "21. -1\n",
       "22. -0.8\n",
       "23. -0.6\n",
       "24. -0.399999999999999\n",
       "25. -0.199999999999999\n",
       "26. 0\n",
       "27. 0.2\n",
       "28. 0.4\n",
       "29. 0.600000000000001\n",
       "30. 0.800000000000001\n",
       "31. 1\n",
       "32. 1.2\n",
       "33. 1.4\n",
       "34. 1.6\n",
       "35. 1.8\n",
       "36. 2\n",
       "37. 2.2\n",
       "38. 2.4\n",
       "39. 2.6\n",
       "40. 2.8\n",
       "41. 3\n",
       "42. 3.2\n",
       "43. 3.4\n",
       "44. 3.6\n",
       "45. 3.8\n",
       "46. 4\n",
       "47. 4.2\n",
       "48. 4.4\n",
       "49. 4.6\n",
       "50. 4.8\n",
       "51. 5\n",
       "\n",
       "\n"
      ],
      "text/plain": [
       " [1] -5.0 -4.8 -4.6 -4.4 -4.2 -4.0 -3.8 -3.6 -3.4 -3.2 -3.0 -2.8 -2.6 -2.4 -2.2\n",
       "[16] -2.0 -1.8 -1.6 -1.4 -1.2 -1.0 -0.8 -0.6 -0.4 -0.2  0.0  0.2  0.4  0.6  0.8\n",
       "[31]  1.0  1.2  1.4  1.6  1.8  2.0  2.2  2.4  2.6  2.8  3.0  3.2  3.4  3.6  3.8\n",
       "[46]  4.0  4.2  4.4  4.6  4.8  5.0"
      ]
     },
     "metadata": {},
     "output_type": "display_data"
    }
   ],
   "source": [
    "seq(-5, 5, by=.2) -> s3               # Assigns the vector c(-5.0, -4.8, -4.6, …, 4.6, 4.8, 5.0) to s3\n",
    "s3\n",
    "\n",
    "s4 <- seq(length=51, from=-5, by=.2)  # Assigns the same vector to s4\n",
    "s4"
   ]
  },
  {
   "cell_type": "markdown",
   "metadata": {},
   "source": [
    "The fifth argument may be named `along=vector`, which is normally used as the only argument to create the sequence 1, 2, ..., `length(vector)`, or the empty sequence if the vector is empty (as it can be).\n",
    "\n",
    "A related function is `rep()` which can be used for replicating an object in various complicated ways. The simplest form is the following, which puts five copies of `x` end-to-end in `s5`."
   ]
  },
  {
   "cell_type": "code",
   "execution_count": 17,
   "metadata": {
    "ExecuteTime": {
     "end_time": "2019-07-16T13:44:33.232802Z",
     "start_time": "2019-07-16T13:44:32.919Z"
    }
   },
   "outputs": [
    {
     "data": {
      "text/html": [
       "<ol class=list-inline>\n",
       "\t<li>10.4</li>\n",
       "\t<li>5.6</li>\n",
       "\t<li>3.1</li>\n",
       "\t<li>6.4</li>\n",
       "\t<li>21.7</li>\n",
       "\t<li>10.4</li>\n",
       "\t<li>5.6</li>\n",
       "\t<li>3.1</li>\n",
       "\t<li>6.4</li>\n",
       "\t<li>21.7</li>\n",
       "\t<li>10.4</li>\n",
       "\t<li>5.6</li>\n",
       "\t<li>3.1</li>\n",
       "\t<li>6.4</li>\n",
       "\t<li>21.7</li>\n",
       "\t<li>10.4</li>\n",
       "\t<li>5.6</li>\n",
       "\t<li>3.1</li>\n",
       "\t<li>6.4</li>\n",
       "\t<li>21.7</li>\n",
       "\t<li>10.4</li>\n",
       "\t<li>5.6</li>\n",
       "\t<li>3.1</li>\n",
       "\t<li>6.4</li>\n",
       "\t<li>21.7</li>\n",
       "</ol>\n"
      ],
      "text/latex": [
       "\\begin{enumerate*}\n",
       "\\item 10.4\n",
       "\\item 5.6\n",
       "\\item 3.1\n",
       "\\item 6.4\n",
       "\\item 21.7\n",
       "\\item 10.4\n",
       "\\item 5.6\n",
       "\\item 3.1\n",
       "\\item 6.4\n",
       "\\item 21.7\n",
       "\\item 10.4\n",
       "\\item 5.6\n",
       "\\item 3.1\n",
       "\\item 6.4\n",
       "\\item 21.7\n",
       "\\item 10.4\n",
       "\\item 5.6\n",
       "\\item 3.1\n",
       "\\item 6.4\n",
       "\\item 21.7\n",
       "\\item 10.4\n",
       "\\item 5.6\n",
       "\\item 3.1\n",
       "\\item 6.4\n",
       "\\item 21.7\n",
       "\\end{enumerate*}\n"
      ],
      "text/markdown": [
       "1. 10.4\n",
       "2. 5.6\n",
       "3. 3.1\n",
       "4. 6.4\n",
       "5. 21.7\n",
       "6. 10.4\n",
       "7. 5.6\n",
       "8. 3.1\n",
       "9. 6.4\n",
       "10. 21.7\n",
       "11. 10.4\n",
       "12. 5.6\n",
       "13. 3.1\n",
       "14. 6.4\n",
       "15. 21.7\n",
       "16. 10.4\n",
       "17. 5.6\n",
       "18. 3.1\n",
       "19. 6.4\n",
       "20. 21.7\n",
       "21. 10.4\n",
       "22. 5.6\n",
       "23. 3.1\n",
       "24. 6.4\n",
       "25. 21.7\n",
       "\n",
       "\n"
      ],
      "text/plain": [
       " [1] 10.4  5.6  3.1  6.4 21.7 10.4  5.6  3.1  6.4 21.7 10.4  5.6  3.1  6.4 21.7\n",
       "[16] 10.4  5.6  3.1  6.4 21.7 10.4  5.6  3.1  6.4 21.7"
      ]
     },
     "metadata": {},
     "output_type": "display_data"
    }
   ],
   "source": [
    "s5 <- rep(x, times=5)\n",
    "s5"
   ]
  },
  {
   "cell_type": "markdown",
   "metadata": {},
   "source": [
    "Another useful version is the following expression, which repeats each element of `x` five times before moving on to the next."
   ]
  },
  {
   "cell_type": "code",
   "execution_count": 18,
   "metadata": {
    "ExecuteTime": {
     "end_time": "2019-07-16T13:44:33.250526Z",
     "start_time": "2019-07-16T13:44:32.925Z"
    }
   },
   "outputs": [
    {
     "data": {
      "text/html": [
       "<ol class=list-inline>\n",
       "\t<li>10.4</li>\n",
       "\t<li>10.4</li>\n",
       "\t<li>10.4</li>\n",
       "\t<li>10.4</li>\n",
       "\t<li>10.4</li>\n",
       "\t<li>5.6</li>\n",
       "\t<li>5.6</li>\n",
       "\t<li>5.6</li>\n",
       "\t<li>5.6</li>\n",
       "\t<li>5.6</li>\n",
       "\t<li>3.1</li>\n",
       "\t<li>3.1</li>\n",
       "\t<li>3.1</li>\n",
       "\t<li>3.1</li>\n",
       "\t<li>3.1</li>\n",
       "\t<li>6.4</li>\n",
       "\t<li>6.4</li>\n",
       "\t<li>6.4</li>\n",
       "\t<li>6.4</li>\n",
       "\t<li>6.4</li>\n",
       "\t<li>21.7</li>\n",
       "\t<li>21.7</li>\n",
       "\t<li>21.7</li>\n",
       "\t<li>21.7</li>\n",
       "\t<li>21.7</li>\n",
       "</ol>\n"
      ],
      "text/latex": [
       "\\begin{enumerate*}\n",
       "\\item 10.4\n",
       "\\item 10.4\n",
       "\\item 10.4\n",
       "\\item 10.4\n",
       "\\item 10.4\n",
       "\\item 5.6\n",
       "\\item 5.6\n",
       "\\item 5.6\n",
       "\\item 5.6\n",
       "\\item 5.6\n",
       "\\item 3.1\n",
       "\\item 3.1\n",
       "\\item 3.1\n",
       "\\item 3.1\n",
       "\\item 3.1\n",
       "\\item 6.4\n",
       "\\item 6.4\n",
       "\\item 6.4\n",
       "\\item 6.4\n",
       "\\item 6.4\n",
       "\\item 21.7\n",
       "\\item 21.7\n",
       "\\item 21.7\n",
       "\\item 21.7\n",
       "\\item 21.7\n",
       "\\end{enumerate*}\n"
      ],
      "text/markdown": [
       "1. 10.4\n",
       "2. 10.4\n",
       "3. 10.4\n",
       "4. 10.4\n",
       "5. 10.4\n",
       "6. 5.6\n",
       "7. 5.6\n",
       "8. 5.6\n",
       "9. 5.6\n",
       "10. 5.6\n",
       "11. 3.1\n",
       "12. 3.1\n",
       "13. 3.1\n",
       "14. 3.1\n",
       "15. 3.1\n",
       "16. 6.4\n",
       "17. 6.4\n",
       "18. 6.4\n",
       "19. 6.4\n",
       "20. 6.4\n",
       "21. 21.7\n",
       "22. 21.7\n",
       "23. 21.7\n",
       "24. 21.7\n",
       "25. 21.7\n",
       "\n",
       "\n"
      ],
      "text/plain": [
       " [1] 10.4 10.4 10.4 10.4 10.4  5.6  5.6  5.6  5.6  5.6  3.1  3.1  3.1  3.1  3.1\n",
       "[16]  6.4  6.4  6.4  6.4  6.4 21.7 21.7 21.7 21.7 21.7"
      ]
     },
     "metadata": {},
     "output_type": "display_data"
    }
   ],
   "source": [
    "s6 <- rep(x, each=5)\n",
    "s6"
   ]
  },
  {
   "cell_type": "markdown",
   "metadata": {},
   "source": [
    "### Logical vectors\n",
    "\n",
    "Along with numerical vectors, R allows manipulation of logical quantities. The elements of a logical vector can have the values `TRUE`, `FALSE`, and `NA` (for \"not available\"). The first two are often abbreviated as `T` and `F`, respectively. However, `T` and `F` are just variables that are set to `TRUE` and `FALSE` by default; they aren't reserved words and thus can be overwritten by your own code if you use the same names (and the same case; variables in R are case-sensitive). Consequently, always use `TRUE` and `FALSE` for clarity:\n"
   ]
  },
  {
   "cell_type": "code",
   "execution_count": 19,
   "metadata": {
    "ExecuteTime": {
     "end_time": "2019-07-16T13:44:33.282449Z",
     "start_time": "2019-07-16T13:44:32.931Z"
    }
   },
   "outputs": [
    {
     "data": {
      "text/html": [
       "TRUE"
      ],
      "text/latex": [
       "TRUE"
      ],
      "text/markdown": [
       "TRUE"
      ],
      "text/plain": [
       "[1] TRUE"
      ]
     },
     "metadata": {},
     "output_type": "display_data"
    },
    {
     "data": {
      "text/html": [
       "FALSE"
      ],
      "text/latex": [
       "FALSE"
      ],
      "text/markdown": [
       "FALSE"
      ],
      "text/plain": [
       "[1] FALSE"
      ]
     },
     "metadata": {},
     "output_type": "display_data"
    },
    {
     "data": {
      "text/html": [
       "5"
      ],
      "text/latex": [
       "5"
      ],
      "text/markdown": [
       "5"
      ],
      "text/plain": [
       "[1] 5"
      ]
     },
     "metadata": {},
     "output_type": "display_data"
    },
    {
     "data": {
      "text/html": [
       "TRUE"
      ],
      "text/latex": [
       "TRUE"
      ],
      "text/markdown": [
       "TRUE"
      ],
      "text/plain": [
       "[1] TRUE"
      ]
     },
     "metadata": {},
     "output_type": "display_data"
    },
    {
     "data": {
      "text/html": [
       "10"
      ],
      "text/latex": [
       "10"
      ],
      "text/markdown": [
       "10"
      ],
      "text/plain": [
       "[1] 10"
      ]
     },
     "metadata": {},
     "output_type": "display_data"
    },
    {
     "data": {
      "text/html": [
       "TRUE"
      ],
      "text/latex": [
       "TRUE"
      ],
      "text/markdown": [
       "TRUE"
      ],
      "text/plain": [
       "[1] TRUE"
      ]
     },
     "metadata": {},
     "output_type": "display_data"
    }
   ],
   "source": [
    "T\n",
    "F\n",
    "\n",
    "t <- 5\n",
    "t\n",
    "T\n",
    "\n",
    "T <- 10\n",
    "T\n",
    "TRUE"
   ]
  },
  {
   "cell_type": "markdown",
   "metadata": {},
   "source": [
    "Logical vectors are generated by *conditions*. The following expression, for example, sets `temp` as a vector of the same length as `x` with values `FALSE` corresponding to elements of `x` where the condition is not met and `TRUE` where it is:"
   ]
  },
  {
   "cell_type": "code",
   "execution_count": 20,
   "metadata": {
    "ExecuteTime": {
     "end_time": "2019-07-16T13:44:33.295552Z",
     "start_time": "2019-07-16T13:44:32.939Z"
    }
   },
   "outputs": [
    {
     "data": {
      "text/html": [
       "<ol class=list-inline>\n",
       "\t<li>FALSE</li>\n",
       "\t<li>FALSE</li>\n",
       "\t<li>FALSE</li>\n",
       "\t<li>FALSE</li>\n",
       "\t<li>TRUE</li>\n",
       "</ol>\n"
      ],
      "text/latex": [
       "\\begin{enumerate*}\n",
       "\\item FALSE\n",
       "\\item FALSE\n",
       "\\item FALSE\n",
       "\\item FALSE\n",
       "\\item TRUE\n",
       "\\end{enumerate*}\n"
      ],
      "text/markdown": [
       "1. FALSE\n",
       "2. FALSE\n",
       "3. FALSE\n",
       "4. FALSE\n",
       "5. TRUE\n",
       "\n",
       "\n"
      ],
      "text/plain": [
       "[1] FALSE FALSE FALSE FALSE  TRUE"
      ]
     },
     "metadata": {},
     "output_type": "display_data"
    }
   ],
   "source": [
    "temp <- x > 13\n",
    "temp"
   ]
  },
  {
   "cell_type": "markdown",
   "metadata": {},
   "source": [
    "The logical operators are `<`, `<=`, `>`, `>=`, `==` for exact equality, and `!=` for inequality. In addition if `c1` and `c2` are logical expressions, then `c1 & c2` is their intersection (\"and\"), `c1 | c2` is their union (\"or\"), and `!c1` is the inverse of `c1`. \n",
    "\n",
    "Logical vectors may be used in ordinary arithmetic, in which case they are coerced into numeric vectors, `FALSE` becoming 0 and `TRUE` becoming 1. However there are situations where logical vectors and their coerced numeric counterparts are not equivalent, as explained in the next section."
   ]
  },
  {
   "cell_type": "markdown",
   "metadata": {},
   "source": [
    "### Missing values\n",
    "\n",
    "In some cases, the components of a vector may not be completely known. When an element or value is \"not available\" or a \"missing value\" in the statistical sense, you can reserve a place for it within a vector by assigning it the special value `NA`. In general, any operation on an `NA` becomes an `NA`. The motivation for this rule is simply that if the specification of an operation is incomplete, the result cannot be known and hence is not available. \n",
    "\n",
    "The function `is.na(x)` gives a logical vector of the same size as `x` with value `TRUE` if and only if the corresponding element in `x` is `NA`:\n"
   ]
  },
  {
   "cell_type": "code",
   "execution_count": 21,
   "metadata": {
    "ExecuteTime": {
     "end_time": "2019-07-16T13:44:33.311649Z",
     "start_time": "2019-07-16T13:44:32.946Z"
    }
   },
   "outputs": [
    {
     "data": {
      "text/html": [
       "<ol class=list-inline>\n",
       "\t<li>1</li>\n",
       "\t<li>2</li>\n",
       "\t<li>3</li>\n",
       "\t<li>&lt;NA&gt;</li>\n",
       "</ol>\n"
      ],
      "text/latex": [
       "\\begin{enumerate*}\n",
       "\\item 1\n",
       "\\item 2\n",
       "\\item 3\n",
       "\\item <NA>\n",
       "\\end{enumerate*}\n"
      ],
      "text/markdown": [
       "1. 1\n",
       "2. 2\n",
       "3. 3\n",
       "4. &lt;NA&gt;\n",
       "\n",
       "\n"
      ],
      "text/plain": [
       "[1]  1  2  3 NA"
      ]
     },
     "metadata": {},
     "output_type": "display_data"
    },
    {
     "data": {
      "text/html": [
       "<ol class=list-inline>\n",
       "\t<li>FALSE</li>\n",
       "\t<li>FALSE</li>\n",
       "\t<li>FALSE</li>\n",
       "\t<li>TRUE</li>\n",
       "</ol>\n"
      ],
      "text/latex": [
       "\\begin{enumerate*}\n",
       "\\item FALSE\n",
       "\\item FALSE\n",
       "\\item FALSE\n",
       "\\item TRUE\n",
       "\\end{enumerate*}\n"
      ],
      "text/markdown": [
       "1. FALSE\n",
       "2. FALSE\n",
       "3. FALSE\n",
       "4. TRUE\n",
       "\n",
       "\n"
      ],
      "text/plain": [
       "[1] FALSE FALSE FALSE  TRUE"
      ]
     },
     "metadata": {},
     "output_type": "display_data"
    }
   ],
   "source": [
    "z <- c(1:3,NA);  ind <- is.na(z)\n",
    "z; ind"
   ]
  },
  {
   "cell_type": "markdown",
   "metadata": {},
   "source": [
    "Notice that the logical expression `x == NA` is quite different from `is.na(x)` because `NA` is not really a value but a marker for a quantity that is not available. Thus `x == NA` is a vector of the same length as `x`, *all* of whose values are `NA` as the logical expression itself is incomplete and hence undecidable. \n",
    "\n",
    "There is also is a second kind of \"missing\" value, the NaN or not-a-number, which is produced by numerical computation that cannot be sensibly performed:"
   ]
  },
  {
   "cell_type": "code",
   "execution_count": 22,
   "metadata": {
    "ExecuteTime": {
     "end_time": "2019-07-16T13:44:33.329422Z",
     "start_time": "2019-07-16T13:44:32.952Z"
    }
   },
   "outputs": [
    {
     "data": {
      "text/html": [
       "NaN"
      ],
      "text/latex": [
       "NaN"
      ],
      "text/markdown": [
       "NaN"
      ],
      "text/plain": [
       "[1] NaN"
      ]
     },
     "metadata": {},
     "output_type": "display_data"
    },
    {
     "data": {
      "text/html": [
       "NaN"
      ],
      "text/latex": [
       "NaN"
      ],
      "text/markdown": [
       "NaN"
      ],
      "text/plain": [
       "[1] NaN"
      ]
     },
     "metadata": {},
     "output_type": "display_data"
    }
   ],
   "source": [
    "0/0\n",
    "Inf - Inf"
   ]
  },
  {
   "cell_type": "markdown",
   "metadata": {},
   "source": [
    "In summary, `is.na(x)` is `TRUE` for *both* `NA` and `NaN` values. To differentiate these, `is.nan(x)` is only `TRUE` for NaNs. \n",
    "Missing values are sometimes printed as `<NA>` when character vectors are printed without quotes. "
   ]
  },
  {
   "cell_type": "markdown",
   "metadata": {},
   "source": [
    "### Character vectors\n",
    "\n",
    "Character quantities and character vectors are used frequently in R, for example as plot labels. They're defined by a sequence of characters inside double quotes, for example:"
   ]
  },
  {
   "cell_type": "code",
   "execution_count": 23,
   "metadata": {
    "ExecuteTime": {
     "end_time": "2019-07-16T13:44:33.348857Z",
     "start_time": "2019-07-16T13:44:32.959Z"
    }
   },
   "outputs": [
    {
     "data": {
      "text/html": [
       "'x-values'"
      ],
      "text/latex": [
       "'x-values'"
      ],
      "text/markdown": [
       "'x-values'"
      ],
      "text/plain": [
       "[1] \"x-values\""
      ]
     },
     "metadata": {},
     "output_type": "display_data"
    },
    {
     "data": {
      "text/html": [
       "'New iteration results'"
      ],
      "text/latex": [
       "'New iteration results'"
      ],
      "text/markdown": [
       "'New iteration results'"
      ],
      "text/plain": [
       "[1] \"New iteration results\""
      ]
     },
     "metadata": {},
     "output_type": "display_data"
    }
   ],
   "source": [
    "\"x-values\"\n",
    "\"New iteration results\""
   ]
  },
  {
   "cell_type": "markdown",
   "metadata": {},
   "source": [
    "Character strings are entered using either matching double (\") or single (') quotes, but are printed using double quotes (or sometimes without quotes). They use C-style escape sequences, using `\\` as the escape character, so `\\\\` is entered and printed as \\\\, and inside double quotes. `\"` is entered as `\\\"`. Other useful escape sequences are `\\n` (newline), `\\t` (tab), and `\\b` (backspace). —see ?Quotes for a full list. \n",
    "\n",
    "Character vectors may be concatenated into a vector using the `c()` function. \n",
    "\n",
    "The `paste()` function takes an arbitrary number of arguments and concatenates them one by one into character strings. Any numbers given among the arguments are coerced into character strings in the evident way, that is, in the same way they would be if they were printed. The arguments are by default separated in the result by a single blank character, but this can be changed by the named argument, sep=string, which changes it to string, possibly empty.\n",
    "\n",
    "For example, the following expression makes `labs` into the same character vector as the second expression:"
   ]
  },
  {
   "cell_type": "code",
   "execution_count": 24,
   "metadata": {
    "ExecuteTime": {
     "end_time": "2019-07-16T13:44:33.371101Z",
     "start_time": "2019-07-16T13:44:32.964Z"
    }
   },
   "outputs": [
    {
     "data": {
      "text/html": [
       "<ol class=list-inline>\n",
       "\t<li>'X1'</li>\n",
       "\t<li>'Y2'</li>\n",
       "\t<li>'X3'</li>\n",
       "\t<li>'Y4'</li>\n",
       "\t<li>'X5'</li>\n",
       "\t<li>'Y6'</li>\n",
       "\t<li>'X7'</li>\n",
       "\t<li>'Y8'</li>\n",
       "\t<li>'X9'</li>\n",
       "\t<li>'Y10'</li>\n",
       "</ol>\n"
      ],
      "text/latex": [
       "\\begin{enumerate*}\n",
       "\\item 'X1'\n",
       "\\item 'Y2'\n",
       "\\item 'X3'\n",
       "\\item 'Y4'\n",
       "\\item 'X5'\n",
       "\\item 'Y6'\n",
       "\\item 'X7'\n",
       "\\item 'Y8'\n",
       "\\item 'X9'\n",
       "\\item 'Y10'\n",
       "\\end{enumerate*}\n"
      ],
      "text/markdown": [
       "1. 'X1'\n",
       "2. 'Y2'\n",
       "3. 'X3'\n",
       "4. 'Y4'\n",
       "5. 'X5'\n",
       "6. 'Y6'\n",
       "7. 'X7'\n",
       "8. 'Y8'\n",
       "9. 'X9'\n",
       "10. 'Y10'\n",
       "\n",
       "\n"
      ],
      "text/plain": [
       " [1] \"X1\"  \"Y2\"  \"X3\"  \"Y4\"  \"X5\"  \"Y6\"  \"X7\"  \"Y8\"  \"X9\"  \"Y10\""
      ]
     },
     "metadata": {},
     "output_type": "display_data"
    },
    {
     "data": {
      "text/html": [
       "<ol class=list-inline>\n",
       "\t<li>'X1'</li>\n",
       "\t<li>'Y2'</li>\n",
       "\t<li>'X3'</li>\n",
       "\t<li>'Y4'</li>\n",
       "\t<li>'X5'</li>\n",
       "\t<li>'Y6'</li>\n",
       "\t<li>'X7'</li>\n",
       "\t<li>'Y8'</li>\n",
       "\t<li>'X9'</li>\n",
       "\t<li>'Y10'</li>\n",
       "</ol>\n"
      ],
      "text/latex": [
       "\\begin{enumerate*}\n",
       "\\item 'X1'\n",
       "\\item 'Y2'\n",
       "\\item 'X3'\n",
       "\\item 'Y4'\n",
       "\\item 'X5'\n",
       "\\item 'Y6'\n",
       "\\item 'X7'\n",
       "\\item 'Y8'\n",
       "\\item 'X9'\n",
       "\\item 'Y10'\n",
       "\\end{enumerate*}\n"
      ],
      "text/markdown": [
       "1. 'X1'\n",
       "2. 'Y2'\n",
       "3. 'X3'\n",
       "4. 'Y4'\n",
       "5. 'X5'\n",
       "6. 'Y6'\n",
       "7. 'X7'\n",
       "8. 'Y8'\n",
       "9. 'X9'\n",
       "10. 'Y10'\n",
       "\n",
       "\n"
      ],
      "text/plain": [
       " [1] \"X1\"  \"Y2\"  \"X3\"  \"Y4\"  \"X5\"  \"Y6\"  \"X7\"  \"Y8\"  \"X9\"  \"Y10\""
      ]
     },
     "metadata": {},
     "output_type": "display_data"
    }
   ],
   "source": [
    "labs <- paste(c(\"X\",\"Y\"), 1:10, sep=\"\")\n",
    "labs\n",
    "\n",
    "c(\"X1\", \"Y2\", \"X3\", \"Y4\", \"X5\", \"Y6\", \"X7\", \"Y8\", \"X9\", \"Y10\")"
   ]
  },
  {
   "cell_type": "markdown",
   "metadata": {},
   "source": [
    "Note particularly that recycling of short lists takes place here; thus `c(\"X\", \"Y\")` is repeated five times to match the sequence `1:10`."
   ]
  },
  {
   "cell_type": "markdown",
   "metadata": {},
   "source": [
    "### Index vectors; selecting and modifying subsets of a data set\n",
    "\n",
    "Subsets of the elements of a vector may be selected by appending to the name of the vector an *index vector* in square brackets. More generally any expression that evaluates to a vector may have subsets of its elements similarly selected by appending an index vector in square brackets immediately after the expression. \n",
    "\n",
    "Such index vectors can be any of four distinct types.\n",
    "\n",
    "#### (1) A logical vector\n",
    "\n",
    "In this case the index vector is recycled to the same length as the vector from which elements are to be selected. Values corresponding to `TRUE` in the index vector are selected and those corresponding to `FALSE` are omitted. For example, the following expression creates (or re-creates) an object `y` which contains the non-missing values of `x`, in the same order. Note that if `x` has missing values, `y` is be shorter than `x`."
   ]
  },
  {
   "cell_type": "code",
   "execution_count": 25,
   "metadata": {
    "ExecuteTime": {
     "end_time": "2019-07-16T13:44:33.390697Z",
     "start_time": "2019-07-16T13:44:32.971Z"
    }
   },
   "outputs": [
    {
     "data": {
      "text/html": [
       "<ol class=list-inline>\n",
       "\t<li>10.4</li>\n",
       "\t<li>5.6</li>\n",
       "\t<li>3.1</li>\n",
       "\t<li>6.4</li>\n",
       "\t<li>21.7</li>\n",
       "</ol>\n"
      ],
      "text/latex": [
       "\\begin{enumerate*}\n",
       "\\item 10.4\n",
       "\\item 5.6\n",
       "\\item 3.1\n",
       "\\item 6.4\n",
       "\\item 21.7\n",
       "\\end{enumerate*}\n"
      ],
      "text/markdown": [
       "1. 10.4\n",
       "2. 5.6\n",
       "3. 3.1\n",
       "4. 6.4\n",
       "5. 21.7\n",
       "\n",
       "\n"
      ],
      "text/plain": [
       "[1] 10.4  5.6  3.1  6.4 21.7"
      ]
     },
     "metadata": {},
     "output_type": "display_data"
    }
   ],
   "source": [
    "y <- x[!is.na(x)]\n",
    "y"
   ]
  },
  {
   "cell_type": "markdown",
   "metadata": {},
   "source": [
    "The following expression creates an object `z` and places in it the values of the vector `x+1` for which the corresponding value in `x` was both non-missing and positive:"
   ]
  },
  {
   "cell_type": "code",
   "execution_count": 26,
   "metadata": {
    "ExecuteTime": {
     "end_time": "2019-07-16T13:44:33.407951Z",
     "start_time": "2019-07-16T13:44:32.976Z"
    }
   },
   "outputs": [
    {
     "data": {
      "text/html": [
       "<ol class=list-inline>\n",
       "\t<li>11.4</li>\n",
       "\t<li>6.6</li>\n",
       "\t<li>4.1</li>\n",
       "\t<li>7.4</li>\n",
       "\t<li>22.7</li>\n",
       "</ol>\n"
      ],
      "text/latex": [
       "\\begin{enumerate*}\n",
       "\\item 11.4\n",
       "\\item 6.6\n",
       "\\item 4.1\n",
       "\\item 7.4\n",
       "\\item 22.7\n",
       "\\end{enumerate*}\n"
      ],
      "text/markdown": [
       "1. 11.4\n",
       "2. 6.6\n",
       "3. 4.1\n",
       "4. 7.4\n",
       "5. 22.7\n",
       "\n",
       "\n"
      ],
      "text/plain": [
       "[1] 11.4  6.6  4.1  7.4 22.7"
      ]
     },
     "metadata": {},
     "output_type": "display_data"
    }
   ],
   "source": [
    "(x+1)[(!is.na(x)) & x>0] -> z\n",
    "z"
   ]
  },
  {
   "cell_type": "markdown",
   "metadata": {},
   "source": [
    "#### (2) A vector of positive integral quantities\n",
    "\n",
    "In this case the values in the index vector must lie in the set {1, 2, ..., length(x)}. The corresponding elements of the vector are selected and concatenated, *in that order*, in the result. The index vector can be of any length and the result is of the same length as the index vector. For example:"
   ]
  },
  {
   "cell_type": "code",
   "execution_count": 27,
   "metadata": {
    "ExecuteTime": {
     "end_time": "2019-07-16T13:44:33.430554Z",
     "start_time": "2019-07-16T13:44:32.985Z"
    }
   },
   "outputs": [
    {
     "data": {
      "text/html": [
       "&lt;NA&gt;"
      ],
      "text/latex": [
       "<NA>"
      ],
      "text/markdown": [
       "&lt;NA&gt;"
      ],
      "text/plain": [
       "[1] NA"
      ]
     },
     "metadata": {},
     "output_type": "display_data"
    },
    {
     "data": {
      "text/html": [
       "<ol class=list-inline>\n",
       "\t<li>10.4</li>\n",
       "\t<li>5.6</li>\n",
       "\t<li>3.1</li>\n",
       "\t<li>6.4</li>\n",
       "\t<li>21.7</li>\n",
       "\t<li>&lt;NA&gt;</li>\n",
       "\t<li>&lt;NA&gt;</li>\n",
       "\t<li>&lt;NA&gt;</li>\n",
       "\t<li>&lt;NA&gt;</li>\n",
       "\t<li>&lt;NA&gt;</li>\n",
       "</ol>\n"
      ],
      "text/latex": [
       "\\begin{enumerate*}\n",
       "\\item 10.4\n",
       "\\item 5.6\n",
       "\\item 3.1\n",
       "\\item 6.4\n",
       "\\item 21.7\n",
       "\\item <NA>\n",
       "\\item <NA>\n",
       "\\item <NA>\n",
       "\\item <NA>\n",
       "\\item <NA>\n",
       "\\end{enumerate*}\n"
      ],
      "text/markdown": [
       "1. 10.4\n",
       "2. 5.6\n",
       "3. 3.1\n",
       "4. 6.4\n",
       "5. 21.7\n",
       "6. &lt;NA&gt;\n",
       "7. &lt;NA&gt;\n",
       "8. &lt;NA&gt;\n",
       "9. &lt;NA&gt;\n",
       "10. &lt;NA&gt;\n",
       "\n",
       "\n"
      ],
      "text/plain": [
       " [1] 10.4  5.6  3.1  6.4 21.7   NA   NA   NA   NA   NA"
      ]
     },
     "metadata": {},
     "output_type": "display_data"
    }
   ],
   "source": [
    "x[6]    # The sixth component of x\n",
    "x[1:10] # Selects the first 10 elements of x (assuming length(x) is not less than 10)"
   ]
  },
  {
   "cell_type": "markdown",
   "metadata": {},
   "source": [
    "The following expression, though an admittedly unlikely thing to use, produces a character vector of length 16 consisting of \"x\", \"y\", \"y\", \"x\" repeated four times:"
   ]
  },
  {
   "cell_type": "code",
   "execution_count": 28,
   "metadata": {
    "ExecuteTime": {
     "end_time": "2019-07-16T13:44:33.445190Z",
     "start_time": "2019-07-16T13:44:32.990Z"
    }
   },
   "outputs": [
    {
     "data": {
      "text/html": [
       "<ol class=list-inline>\n",
       "\t<li>'x'</li>\n",
       "\t<li>'y'</li>\n",
       "\t<li>'y'</li>\n",
       "\t<li>'x'</li>\n",
       "\t<li>'x'</li>\n",
       "\t<li>'y'</li>\n",
       "\t<li>'y'</li>\n",
       "\t<li>'x'</li>\n",
       "\t<li>'x'</li>\n",
       "\t<li>'y'</li>\n",
       "\t<li>'y'</li>\n",
       "\t<li>'x'</li>\n",
       "\t<li>'x'</li>\n",
       "\t<li>'y'</li>\n",
       "\t<li>'y'</li>\n",
       "\t<li>'x'</li>\n",
       "</ol>\n"
      ],
      "text/latex": [
       "\\begin{enumerate*}\n",
       "\\item 'x'\n",
       "\\item 'y'\n",
       "\\item 'y'\n",
       "\\item 'x'\n",
       "\\item 'x'\n",
       "\\item 'y'\n",
       "\\item 'y'\n",
       "\\item 'x'\n",
       "\\item 'x'\n",
       "\\item 'y'\n",
       "\\item 'y'\n",
       "\\item 'x'\n",
       "\\item 'x'\n",
       "\\item 'y'\n",
       "\\item 'y'\n",
       "\\item 'x'\n",
       "\\end{enumerate*}\n"
      ],
      "text/markdown": [
       "1. 'x'\n",
       "2. 'y'\n",
       "3. 'y'\n",
       "4. 'x'\n",
       "5. 'x'\n",
       "6. 'y'\n",
       "7. 'y'\n",
       "8. 'x'\n",
       "9. 'x'\n",
       "10. 'y'\n",
       "11. 'y'\n",
       "12. 'x'\n",
       "13. 'x'\n",
       "14. 'y'\n",
       "15. 'y'\n",
       "16. 'x'\n",
       "\n",
       "\n"
      ],
      "text/plain": [
       " [1] \"x\" \"y\" \"y\" \"x\" \"x\" \"y\" \"y\" \"x\" \"x\" \"y\" \"y\" \"x\" \"x\" \"y\" \"y\" \"x\""
      ]
     },
     "metadata": {},
     "output_type": "display_data"
    }
   ],
   "source": [
    "c(\"x\",\"y\")[rep(c(1,2,2,1), times=4)]"
   ]
  },
  {
   "cell_type": "markdown",
   "metadata": {},
   "source": [
    "#### A vector of negative integral quantities\n",
    "\n",
    "Such an index vector specifies the values to be excluded rather than included. Thus the following expression gives y all but the first five elements of x."
   ]
  },
  {
   "cell_type": "code",
   "execution_count": 29,
   "metadata": {
    "ExecuteTime": {
     "end_time": "2019-07-16T13:44:33.462589Z",
     "start_time": "2019-07-16T13:44:32.996Z"
    }
   },
   "outputs": [
    {
     "data": {
      "text/html": [],
      "text/latex": [],
      "text/markdown": [],
      "text/plain": [
       "numeric(0)"
      ]
     },
     "metadata": {},
     "output_type": "display_data"
    }
   ],
   "source": [
    "y <- x[-(1:5)]\n",
    "y"
   ]
  },
  {
   "cell_type": "markdown",
   "metadata": {},
   "source": [
    "#### A vector of character strings\n",
    "\n",
    "This possibility applies only where an object has a names attribute to identify its components. In this case a sub-vector of the names vector may be used in the same way as the positive integral labels in item 2 further above. "
   ]
  },
  {
   "cell_type": "code",
   "execution_count": 30,
   "metadata": {
    "ExecuteTime": {
     "end_time": "2019-07-16T13:44:33.492386Z",
     "start_time": "2019-07-16T13:44:33.002Z"
    }
   },
   "outputs": [
    {
     "data": {
      "text/html": [
       "<ol class=list-inline>\n",
       "\t<li>5</li>\n",
       "\t<li>10</li>\n",
       "\t<li>1</li>\n",
       "\t<li>20</li>\n",
       "</ol>\n"
      ],
      "text/latex": [
       "\\begin{enumerate*}\n",
       "\\item 5\n",
       "\\item 10\n",
       "\\item 1\n",
       "\\item 20\n",
       "\\end{enumerate*}\n"
      ],
      "text/markdown": [
       "1. 5\n",
       "2. 10\n",
       "3. 1\n",
       "4. 20\n",
       "\n",
       "\n"
      ],
      "text/plain": [
       "[1]  5 10  1 20"
      ]
     },
     "metadata": {},
     "output_type": "display_data"
    },
    {
     "data": {
      "text/html": [
       "<dl class=dl-horizontal>\n",
       "\t<dt>orange</dt>\n",
       "\t\t<dd>5</dd>\n",
       "\t<dt>banana</dt>\n",
       "\t\t<dd>10</dd>\n",
       "\t<dt>apple</dt>\n",
       "\t\t<dd>1</dd>\n",
       "\t<dt>peach</dt>\n",
       "\t\t<dd>20</dd>\n",
       "</dl>\n"
      ],
      "text/latex": [
       "\\begin{description*}\n",
       "\\item[orange] 5\n",
       "\\item[banana] 10\n",
       "\\item[apple] 1\n",
       "\\item[peach] 20\n",
       "\\end{description*}\n"
      ],
      "text/markdown": [
       "orange\n",
       ":   5banana\n",
       ":   10apple\n",
       ":   1peach\n",
       ":   20\n",
       "\n"
      ],
      "text/plain": [
       "orange banana  apple  peach \n",
       "     5     10      1     20 "
      ]
     },
     "metadata": {},
     "output_type": "display_data"
    },
    {
     "data": {
      "text/html": [
       "<dl class=dl-horizontal>\n",
       "\t<dt>apple</dt>\n",
       "\t\t<dd>1</dd>\n",
       "\t<dt>orange</dt>\n",
       "\t\t<dd>5</dd>\n",
       "</dl>\n"
      ],
      "text/latex": [
       "\\begin{description*}\n",
       "\\item[apple] 1\n",
       "\\item[orange] 5\n",
       "\\end{description*}\n"
      ],
      "text/markdown": [
       "apple\n",
       ":   1orange\n",
       ":   5\n",
       "\n"
      ],
      "text/plain": [
       " apple orange \n",
       "     1      5 "
      ]
     },
     "metadata": {},
     "output_type": "display_data"
    }
   ],
   "source": [
    "fruit <- c(5, 10, 1, 20)\n",
    "fruit\n",
    "\n",
    "names(fruit) <- c(\"orange\", \"banana\", \"apple\", \"peach\")\n",
    "fruit\n",
    "\n",
    "lunch <- fruit[c(\"apple\",\"orange\")]\n",
    "lunch"
   ]
  },
  {
   "cell_type": "markdown",
   "metadata": {},
   "source": [
    "The advantage of such vectors is that alphanumeric *names* are often easier to remember than *numeric indices*. This option is particularly useful in connection with data frames.\n",
    "\n",
    "Besides the four types above, an indexed expression can also appear on the receiving end of an assignment, in which case the assignment operation is performed *only on those elements of the vector*. The expression must be of the form `vector[index_vector]` as having an arbitrary expression in place of the vector name does not make much sense here. For example, the first expression below replaces any missing values in x by zeros and the second has the same effect as `y <- abs(y)`:"
   ]
  },
  {
   "cell_type": "code",
   "execution_count": 31,
   "metadata": {
    "ExecuteTime": {
     "end_time": "2019-07-16T13:44:33.514819Z",
     "start_time": "2019-07-16T13:44:33.008Z"
    }
   },
   "outputs": [
    {
     "data": {
      "text/html": [
       "<ol class=list-inline>\n",
       "\t<li>10.4</li>\n",
       "\t<li>5.6</li>\n",
       "\t<li>3.1</li>\n",
       "\t<li>6.4</li>\n",
       "\t<li>21.7</li>\n",
       "</ol>\n"
      ],
      "text/latex": [
       "\\begin{enumerate*}\n",
       "\\item 10.4\n",
       "\\item 5.6\n",
       "\\item 3.1\n",
       "\\item 6.4\n",
       "\\item 21.7\n",
       "\\end{enumerate*}\n"
      ],
      "text/markdown": [
       "1. 10.4\n",
       "2. 5.6\n",
       "3. 3.1\n",
       "4. 6.4\n",
       "5. 21.7\n",
       "\n",
       "\n"
      ],
      "text/plain": [
       "[1] 10.4  5.6  3.1  6.4 21.7"
      ]
     },
     "metadata": {},
     "output_type": "display_data"
    },
    {
     "data": {
      "text/html": [],
      "text/latex": [],
      "text/markdown": [],
      "text/plain": [
       "numeric(0)"
      ]
     },
     "metadata": {},
     "output_type": "display_data"
    }
   ],
   "source": [
    "x[is.na(x)] <- 0\n",
    "x\n",
    "\n",
    "y[y < 0] <- -y[y < 0]\n",
    "y"
   ]
  },
  {
   "cell_type": "markdown",
   "metadata": {},
   "source": [
    "### Other types of objects\n",
    "\n",
    "Vectors are the most important type of object in R, but there are several others which we will meet more formally in later sections. \n",
    "\n",
    "*Matrices*, or more generally *arrays*, are multi-dimensional generalizations of vectors. In fact, they are vectors that can be indexed by two or more indices and will be printed in special ways. See [Arrays and matrices](https://cran.r-project.org/doc/manuals/r-release/R-intro.html#Arrays-and-matrices). \n",
    "\n",
    "*Factors* provide compact ways to handle categorical data. See [Factors](https://cran.r-project.org/doc/manuals/r-release/R-intro.html#Factors). \n",
    "\n",
    "*Lists* are a general form of vector in which the various elements need not be of the same type, and are often themselves vectors or lists. Lists provide a convenient way to return the results of a statistical computation. See [Lists](https://cran.r-project.org/doc/manuals/r-release/R-intro.html#Lists).\n",
    "\n",
    "*Data frames* are matrix-like structures in which the columns can be of different types. Think of data frames as 'data matrices' with one row per observational unit but with (possibly) both numerical and categorical variables. Many experiments are best described by data frames: the treatments are categorical but the response is numeric. See [Data frames](https://cran.r-project.org/doc/manuals/r-release/R-intro.html#Data-frames).\n",
    "\n",
    "*Functions* are themselves objects in R which can be stored in the project's workspace. This provides a simple and convenient way to extend R. See [Writing your own functions](https://cran.r-project.org/doc/manuals/r-release/R-intro.html#Writing-your-own-functions). "
   ]
  },
  {
   "cell_type": "markdown",
   "metadata": {},
   "source": [
    "## A sample R session\n",
    "\n",
    "The code in this walkthrough introduces you to various features of the R environment, such as plotting and management of objects.\n",
    "\n",
    "To begin with, generate two psuedo-random normal vectors of x- and y-coordinates:"
   ]
  },
  {
   "cell_type": "code",
   "execution_count": 32,
   "metadata": {
    "ExecuteTime": {
     "end_time": "2019-07-16T13:44:33.533157Z",
     "start_time": "2019-07-16T13:44:33.014Z"
    }
   },
   "outputs": [],
   "source": [
    "x <- rnorm(50)\n",
    "y <- rnorm(x)\n"
   ]
  },
  {
   "cell_type": "markdown",
   "metadata": {},
   "source": [
    "Plot the points in a plane, generating an inline graphic. Note the use of `option` to set the graph size larger than the default, which is 4x3:"
   ]
  },
  {
   "cell_type": "code",
   "execution_count": 33,
   "metadata": {
    "ExecuteTime": {
     "end_time": "2019-07-16T13:44:33.605605Z",
     "start_time": "2019-07-16T13:44:33.018Z"
    }
   },
   "outputs": [
    {
     "data": {
      "image/png": "[encoded data removed]",
      "text/plain": [
       "plot without title"
      ]
     },
     "metadata": {},
     "output_type": "display_data"
    }
   ],
   "source": [
    "# Set plot size for this section\n",
    "options(repr.plot.width=8, repr.plot.height=6)\n",
    "\n",
    "plot(x, y)"
   ]
  },
  {
   "cell_type": "markdown",
   "metadata": {},
   "source": [
    "See which R objects are now in the R workspace. "
   ]
  },
  {
   "cell_type": "code",
   "execution_count": 34,
   "metadata": {
    "ExecuteTime": {
     "end_time": "2019-07-16T13:44:33.618157Z",
     "start_time": "2019-07-16T13:44:33.023Z"
    }
   },
   "outputs": [
    {
     "data": {
      "text/html": [
       "<ol class=list-inline>\n",
       "\t<li>'fruit'</li>\n",
       "\t<li>'ind'</li>\n",
       "\t<li>'labs'</li>\n",
       "\t<li>'lunch'</li>\n",
       "\t<li>'n'</li>\n",
       "\t<li>'s3'</li>\n",
       "\t<li>'s4'</li>\n",
       "\t<li>'s5'</li>\n",
       "\t<li>'s6'</li>\n",
       "\t<li>'t'</li>\n",
       "\t<li>'T'</li>\n",
       "\t<li>'temp'</li>\n",
       "\t<li>'v'</li>\n",
       "\t<li>'x'</li>\n",
       "\t<li>'y'</li>\n",
       "\t<li>'z'</li>\n",
       "</ol>\n"
      ],
      "text/latex": [
       "\\begin{enumerate*}\n",
       "\\item 'fruit'\n",
       "\\item 'ind'\n",
       "\\item 'labs'\n",
       "\\item 'lunch'\n",
       "\\item 'n'\n",
       "\\item 's3'\n",
       "\\item 's4'\n",
       "\\item 's5'\n",
       "\\item 's6'\n",
       "\\item 't'\n",
       "\\item 'T'\n",
       "\\item 'temp'\n",
       "\\item 'v'\n",
       "\\item 'x'\n",
       "\\item 'y'\n",
       "\\item 'z'\n",
       "\\end{enumerate*}\n"
      ],
      "text/markdown": [
       "1. 'fruit'\n",
       "2. 'ind'\n",
       "3. 'labs'\n",
       "4. 'lunch'\n",
       "5. 'n'\n",
       "6. 's3'\n",
       "7. 's4'\n",
       "8. 's5'\n",
       "9. 's6'\n",
       "10. 't'\n",
       "11. 'T'\n",
       "12. 'temp'\n",
       "13. 'v'\n",
       "14. 'x'\n",
       "15. 'y'\n",
       "16. 'z'\n",
       "\n",
       "\n"
      ],
      "text/plain": [
       " [1] \"fruit\" \"ind\"   \"labs\"  \"lunch\" \"n\"     \"s3\"    \"s4\"    \"s5\"    \"s6\"   \n",
       "[10] \"t\"     \"T\"     \"temp\"  \"v\"     \"x\"     \"y\"     \"z\"    "
      ]
     },
     "metadata": {},
     "output_type": "display_data"
    }
   ],
   "source": [
    "ls()"
   ]
  },
  {
   "cell_type": "markdown",
   "metadata": {},
   "source": [
    "Clean up objects that aren't needed:"
   ]
  },
  {
   "cell_type": "code",
   "execution_count": 35,
   "metadata": {
    "ExecuteTime": {
     "end_time": "2019-07-16T13:44:33.631544Z",
     "start_time": "2019-07-16T13:44:33.028Z"
    }
   },
   "outputs": [
    {
     "data": {
      "text/html": [
       "<ol class=list-inline>\n",
       "\t<li>'fruit'</li>\n",
       "\t<li>'ind'</li>\n",
       "\t<li>'labs'</li>\n",
       "\t<li>'lunch'</li>\n",
       "\t<li>'n'</li>\n",
       "\t<li>'s3'</li>\n",
       "\t<li>'s4'</li>\n",
       "\t<li>'s5'</li>\n",
       "\t<li>'s6'</li>\n",
       "\t<li>'t'</li>\n",
       "\t<li>'T'</li>\n",
       "\t<li>'temp'</li>\n",
       "\t<li>'v'</li>\n",
       "\t<li>'z'</li>\n",
       "</ol>\n"
      ],
      "text/latex": [
       "\\begin{enumerate*}\n",
       "\\item 'fruit'\n",
       "\\item 'ind'\n",
       "\\item 'labs'\n",
       "\\item 'lunch'\n",
       "\\item 'n'\n",
       "\\item 's3'\n",
       "\\item 's4'\n",
       "\\item 's5'\n",
       "\\item 's6'\n",
       "\\item 't'\n",
       "\\item 'T'\n",
       "\\item 'temp'\n",
       "\\item 'v'\n",
       "\\item 'z'\n",
       "\\end{enumerate*}\n"
      ],
      "text/markdown": [
       "1. 'fruit'\n",
       "2. 'ind'\n",
       "3. 'labs'\n",
       "4. 'lunch'\n",
       "5. 'n'\n",
       "6. 's3'\n",
       "7. 's4'\n",
       "8. 's5'\n",
       "9. 's6'\n",
       "10. 't'\n",
       "11. 'T'\n",
       "12. 'temp'\n",
       "13. 'v'\n",
       "14. 'z'\n",
       "\n",
       "\n"
      ],
      "text/plain": [
       " [1] \"fruit\" \"ind\"   \"labs\"  \"lunch\" \"n\"     \"s3\"    \"s4\"    \"s5\"    \"s6\"   \n",
       "[10] \"t\"     \"T\"     \"temp\"  \"v\"     \"z\"    "
      ]
     },
     "metadata": {},
     "output_type": "display_data"
    }
   ],
   "source": [
    "rm(x, y)\n",
    "ls()"
   ]
  },
  {
   "cell_type": "markdown",
   "metadata": {},
   "source": [
    "Create a 'weight'’ vector of standard deviations:"
   ]
  },
  {
   "cell_type": "code",
   "execution_count": 36,
   "metadata": {
    "ExecuteTime": {
     "end_time": "2019-07-16T13:44:33.646199Z",
     "start_time": "2019-07-16T13:44:33.034Z"
    }
   },
   "outputs": [
    {
     "data": {
      "text/html": [
       "<ol class=list-inline>\n",
       "\t<li>1.5</li>\n",
       "\t<li>1.70710678118655</li>\n",
       "\t<li>1.86602540378444</li>\n",
       "\t<li>2</li>\n",
       "\t<li>2.11803398874989</li>\n",
       "\t<li>2.22474487139159</li>\n",
       "\t<li>2.3228756555323</li>\n",
       "\t<li>2.41421356237309</li>\n",
       "\t<li>2.5</li>\n",
       "\t<li>2.58113883008419</li>\n",
       "\t<li>2.6583123951777</li>\n",
       "\t<li>2.73205080756888</li>\n",
       "\t<li>2.80277563773199</li>\n",
       "\t<li>2.87082869338697</li>\n",
       "\t<li>2.93649167310371</li>\n",
       "\t<li>3</li>\n",
       "\t<li>3.06155281280883</li>\n",
       "\t<li>3.12132034355964</li>\n",
       "\t<li>3.17944947177034</li>\n",
       "\t<li>3.23606797749979</li>\n",
       "</ol>\n"
      ],
      "text/latex": [
       "\\begin{enumerate*}\n",
       "\\item 1.5\n",
       "\\item 1.70710678118655\n",
       "\\item 1.86602540378444\n",
       "\\item 2\n",
       "\\item 2.11803398874989\n",
       "\\item 2.22474487139159\n",
       "\\item 2.3228756555323\n",
       "\\item 2.41421356237309\n",
       "\\item 2.5\n",
       "\\item 2.58113883008419\n",
       "\\item 2.6583123951777\n",
       "\\item 2.73205080756888\n",
       "\\item 2.80277563773199\n",
       "\\item 2.87082869338697\n",
       "\\item 2.93649167310371\n",
       "\\item 3\n",
       "\\item 3.06155281280883\n",
       "\\item 3.12132034355964\n",
       "\\item 3.17944947177034\n",
       "\\item 3.23606797749979\n",
       "\\end{enumerate*}\n"
      ],
      "text/markdown": [
       "1. 1.5\n",
       "2. 1.70710678118655\n",
       "3. 1.86602540378444\n",
       "4. 2\n",
       "5. 2.11803398874989\n",
       "6. 2.22474487139159\n",
       "7. 2.3228756555323\n",
       "8. 2.41421356237309\n",
       "9. 2.5\n",
       "10. 2.58113883008419\n",
       "11. 2.6583123951777\n",
       "12. 2.73205080756888\n",
       "13. 2.80277563773199\n",
       "14. 2.87082869338697\n",
       "15. 2.93649167310371\n",
       "16. 3\n",
       "17. 3.06155281280883\n",
       "18. 3.12132034355964\n",
       "19. 3.17944947177034\n",
       "20. 3.23606797749979\n",
       "\n",
       "\n"
      ],
      "text/plain": [
       " [1] 1.500000 1.707107 1.866025 2.000000 2.118034 2.224745 2.322876 2.414214\n",
       " [9] 2.500000 2.581139 2.658312 2.732051 2.802776 2.870829 2.936492 3.000000\n",
       "[17] 3.061553 3.121320 3.179449 3.236068"
      ]
     },
     "metadata": {},
     "output_type": "display_data"
    }
   ],
   "source": [
    "x <- 1:20            # Create a vector of 1, 2, 3, ... 20\n",
    "w <- 1 + sqrt(x)/2\n",
    "w"
   ]
  },
  {
   "cell_type": "markdown",
   "metadata": {},
   "source": [
    "Make a data frame of two columns, x and y, and look at it:"
   ]
  },
  {
   "cell_type": "code",
   "execution_count": 37,
   "metadata": {
    "ExecuteTime": {
     "end_time": "2019-07-16T13:44:33.709724Z",
     "start_time": "2019-07-16T13:44:33.039Z"
    }
   },
   "outputs": [
    {
     "data": {
      "text/html": [
       "<table>\n",
       "<caption>A data.frame: 20 × 2</caption>\n",
       "<thead>\n",
       "\t<tr><th scope=col>x</th><th scope=col>y</th></tr>\n",
       "\t<tr><th scope=col>&lt;int&gt;</th><th scope=col>&lt;dbl&gt;</th></tr>\n",
       "</thead>\n",
       "<tbody>\n",
       "\t<tr><td> 1</td><td> 2.040456</td></tr>\n",
       "\t<tr><td> 2</td><td> 3.290883</td></tr>\n",
       "\t<tr><td> 3</td><td> 3.348982</td></tr>\n",
       "\t<tr><td> 4</td><td> 2.249894</td></tr>\n",
       "\t<tr><td> 5</td><td> 5.472972</td></tr>\n",
       "\t<tr><td> 6</td><td> 8.449007</td></tr>\n",
       "\t<tr><td> 7</td><td>10.598974</td></tr>\n",
       "\t<tr><td> 8</td><td> 7.634384</td></tr>\n",
       "\t<tr><td> 9</td><td>10.989613</td></tr>\n",
       "\t<tr><td>10</td><td>11.916850</td></tr>\n",
       "\t<tr><td>11</td><td> 9.643505</td></tr>\n",
       "\t<tr><td>12</td><td>14.516156</td></tr>\n",
       "\t<tr><td>13</td><td>12.062816</td></tr>\n",
       "\t<tr><td>14</td><td>20.027885</td></tr>\n",
       "\t<tr><td>15</td><td>13.113937</td></tr>\n",
       "\t<tr><td>16</td><td>20.555434</td></tr>\n",
       "\t<tr><td>17</td><td>16.707029</td></tr>\n",
       "\t<tr><td>18</td><td>19.126550</td></tr>\n",
       "\t<tr><td>19</td><td>19.732229</td></tr>\n",
       "\t<tr><td>20</td><td>22.620514</td></tr>\n",
       "</tbody>\n",
       "</table>\n"
      ],
      "text/latex": [
       "A data.frame: 20 × 2\n",
       "\\begin{tabular}{r|ll}\n",
       " x & y\\\\\n",
       " <int> & <dbl>\\\\\n",
       "\\hline\n",
       "\t  1 &  2.040456\\\\\n",
       "\t  2 &  3.290883\\\\\n",
       "\t  3 &  3.348982\\\\\n",
       "\t  4 &  2.249894\\\\\n",
       "\t  5 &  5.472972\\\\\n",
       "\t  6 &  8.449007\\\\\n",
       "\t  7 & 10.598974\\\\\n",
       "\t  8 &  7.634384\\\\\n",
       "\t  9 & 10.989613\\\\\n",
       "\t 10 & 11.916850\\\\\n",
       "\t 11 &  9.643505\\\\\n",
       "\t 12 & 14.516156\\\\\n",
       "\t 13 & 12.062816\\\\\n",
       "\t 14 & 20.027885\\\\\n",
       "\t 15 & 13.113937\\\\\n",
       "\t 16 & 20.555434\\\\\n",
       "\t 17 & 16.707029\\\\\n",
       "\t 18 & 19.126550\\\\\n",
       "\t 19 & 19.732229\\\\\n",
       "\t 20 & 22.620514\\\\\n",
       "\\end{tabular}\n"
      ],
      "text/markdown": [
       "\n",
       "A data.frame: 20 × 2\n",
       "\n",
       "| x &lt;int&gt; | y &lt;dbl&gt; |\n",
       "|---|---|\n",
       "|  1 |  2.040456 |\n",
       "|  2 |  3.290883 |\n",
       "|  3 |  3.348982 |\n",
       "|  4 |  2.249894 |\n",
       "|  5 |  5.472972 |\n",
       "|  6 |  8.449007 |\n",
       "|  7 | 10.598974 |\n",
       "|  8 |  7.634384 |\n",
       "|  9 | 10.989613 |\n",
       "| 10 | 11.916850 |\n",
       "| 11 |  9.643505 |\n",
       "| 12 | 14.516156 |\n",
       "| 13 | 12.062816 |\n",
       "| 14 | 20.027885 |\n",
       "| 15 | 13.113937 |\n",
       "| 16 | 20.555434 |\n",
       "| 17 | 16.707029 |\n",
       "| 18 | 19.126550 |\n",
       "| 19 | 19.732229 |\n",
       "| 20 | 22.620514 |\n",
       "\n"
      ],
      "text/plain": [
       "   x  y        \n",
       "1   1  2.040456\n",
       "2   2  3.290883\n",
       "3   3  3.348982\n",
       "4   4  2.249894\n",
       "5   5  5.472972\n",
       "6   6  8.449007\n",
       "7   7 10.598974\n",
       "8   8  7.634384\n",
       "9   9 10.989613\n",
       "10 10 11.916850\n",
       "11 11  9.643505\n",
       "12 12 14.516156\n",
       "13 13 12.062816\n",
       "14 14 20.027885\n",
       "15 15 13.113937\n",
       "16 16 20.555434\n",
       "17 17 16.707029\n",
       "18 18 19.126550\n",
       "19 19 19.732229\n",
       "20 20 22.620514"
      ]
     },
     "metadata": {},
     "output_type": "display_data"
    }
   ],
   "source": [
    "dummy <- data.frame(x=x, y= x + rnorm(x)*w)\n",
    "dummy"
   ]
  },
  {
   "cell_type": "markdown",
   "metadata": {},
   "source": [
    "Fit a simple linear regression and look at the analysis. With y to the left of the tilde, we are modelling y dependent on x. "
   ]
  },
  {
   "cell_type": "code",
   "execution_count": 38,
   "metadata": {
    "ExecuteTime": {
     "end_time": "2019-07-16T13:44:33.743380Z",
     "start_time": "2019-07-16T13:44:33.043Z"
    }
   },
   "outputs": [
    {
     "data": {
      "text/plain": [
       "\n",
       "Call:\n",
       "lm(formula = y ~ x, data = dummy)\n",
       "\n",
       "Residuals:\n",
       "    Min      1Q  Median      3Q     Max \n",
       "-3.3260 -1.5393 -0.0564  0.9978  4.6402 \n",
       "\n",
       "Coefficients:\n",
       "            Estimate Std. Error t value Pr(>|t|)    \n",
       "(Intercept)  0.65644    0.98223   0.668    0.512    \n",
       "x            1.05223    0.08199  12.833  1.7e-10 ***\n",
       "---\n",
       "Signif. codes:  0 ‘***’ 0.001 ‘**’ 0.01 ‘*’ 0.05 ‘.’ 0.1 ‘ ’ 1\n",
       "\n",
       "Residual standard error: 2.114 on 18 degrees of freedom\n",
       "Multiple R-squared:  0.9015,\tAdjusted R-squared:  0.896 \n",
       "F-statistic: 164.7 on 1 and 18 DF,  p-value: 1.701e-10\n"
      ]
     },
     "metadata": {},
     "output_type": "display_data"
    }
   ],
   "source": [
    "fm <- lm(y ~ x, data=dummy)\n",
    "summary(fm)"
   ]
  },
  {
   "cell_type": "markdown",
   "metadata": {},
   "source": [
    "Because we know the standard deviations, we can do a weighted regression. "
   ]
  },
  {
   "cell_type": "code",
   "execution_count": 39,
   "metadata": {
    "ExecuteTime": {
     "end_time": "2019-07-16T13:44:33.761275Z",
     "start_time": "2019-07-16T13:44:33.047Z"
    }
   },
   "outputs": [
    {
     "data": {
      "text/plain": [
       "\n",
       "Call:\n",
       "lm(formula = y ~ x, data = dummy, weights = 1/w^2)\n",
       "\n",
       "Weighted Residuals:\n",
       "     Min       1Q   Median       3Q      Max \n",
       "-1.30683 -0.59795  0.03548  0.37119  1.61498 \n",
       "\n",
       "Coefficients:\n",
       "            Estimate Std. Error t value Pr(>|t|)    \n",
       "(Intercept)   0.6524     0.7228   0.903    0.379    \n",
       "x             1.0528     0.0737  14.284 2.91e-11 ***\n",
       "---\n",
       "Signif. codes:  0 ‘***’ 0.001 ‘**’ 0.01 ‘*’ 0.05 ‘.’ 0.1 ‘ ’ 1\n",
       "\n",
       "Residual standard error: 0.7988 on 18 degrees of freedom\n",
       "Multiple R-squared:  0.9189,\tAdjusted R-squared:  0.9144 \n",
       "F-statistic:   204 on 1 and 18 DF,  p-value: 2.912e-11\n"
      ]
     },
     "metadata": {},
     "output_type": "display_data"
    }
   ],
   "source": [
    "fm1 <- lm(y ~ x, data=dummy, weight=1/w^2)\n",
    "summary(fm1)"
   ]
  },
  {
   "cell_type": "markdown",
   "metadata": {},
   "source": [
    "Make the columns in the data frame visible as variables (this code produces a warning about objects of the same name being masked in other environments, which can be safely ignored in this demonstration). "
   ]
  },
  {
   "cell_type": "code",
   "execution_count": 40,
   "metadata": {
    "ExecuteTime": {
     "end_time": "2019-07-16T13:44:33.776495Z",
     "start_time": "2019-07-16T13:44:33.051Z"
    }
   },
   "outputs": [
    {
     "name": "stderr",
     "output_type": "stream",
     "text": [
      "The following object is masked _by_ .GlobalEnv:\n",
      "\n",
      "    x\n",
      "\n"
     ]
    }
   ],
   "source": [
    "attach(dummy)"
   ]
  },
  {
   "cell_type": "markdown",
   "metadata": {},
   "source": [
    "Make a nonparametric local regression function."
   ]
  },
  {
   "cell_type": "code",
   "execution_count": 41,
   "metadata": {
    "ExecuteTime": {
     "end_time": "2019-07-16T13:44:33.787374Z",
     "start_time": "2019-07-16T13:44:33.055Z"
    }
   },
   "outputs": [],
   "source": [
    "lrf <- lowess(x, y)"
   ]
  },
  {
   "cell_type": "markdown",
   "metadata": {},
   "source": [
    "The next lines created (a) A standard point plot, (b) a line for the local regressions, (c) the true regression line, (d) unweighted regression line, and (e) weighted regression line."
   ]
  },
  {
   "cell_type": "code",
   "execution_count": 42,
   "metadata": {
    "ExecuteTime": {
     "end_time": "2019-07-16T13:44:33.859190Z",
     "start_time": "2019-07-16T13:44:33.062Z"
    }
   },
   "outputs": [
    {
     "data": {
      "image/png": "[encoded data removed]",
      "text/plain": [
       "plot without title"
      ]
     },
     "metadata": {},
     "output_type": "display_data"
    }
   ],
   "source": [
    "plot(x, y)                     # Standard plot point\n",
    "lines(x, lrf$y)                # Local regression\n",
    "abline(0, 1, lty=3)            # True regression line (intercept = 0, slope = 1)\n",
    "abline(coef(fm))               # Unweighted regression line\n",
    "abline(coef(fm1), col = \"red\") # Weighted regression line"
   ]
  },
  {
   "cell_type": "markdown",
   "metadata": {},
   "source": [
    "Remove data frame from the search path."
   ]
  },
  {
   "cell_type": "code",
   "execution_count": 43,
   "metadata": {
    "ExecuteTime": {
     "end_time": "2019-07-16T13:44:33.868446Z",
     "start_time": "2019-07-16T13:44:33.066Z"
    }
   },
   "outputs": [],
   "source": [
    "detach()"
   ]
  },
  {
   "cell_type": "markdown",
   "metadata": {},
   "source": [
    "A standard regression diagnostic plot to check for heteroscedasticity. Can you see it? "
   ]
  },
  {
   "cell_type": "code",
   "execution_count": 44,
   "metadata": {
    "ExecuteTime": {
     "end_time": "2019-07-16T13:44:33.929666Z",
     "start_time": "2019-07-16T13:44:33.072Z"
    }
   },
   "outputs": [
    {
     "data": {
      "image/png": "[encoded data removed]",
      "text/plain": [
       "Plot with title “Residuals vs Fitted”"
      ]
     },
     "metadata": {},
     "output_type": "display_data"
    }
   ],
   "source": [
    "plot(fitted(fm), resid(fm),\n",
    "     xlab=\"Fitted values\",\n",
    "     ylab=\"Residuals\",\n",
    "     main=\"Residuals vs Fitted\")"
   ]
  },
  {
   "cell_type": "markdown",
   "metadata": {},
   "source": [
    "A normal scores plot to check for skewness, kurtosis and outliers. (Not very useful here.) "
   ]
  },
  {
   "cell_type": "code",
   "execution_count": 45,
   "metadata": {
    "ExecuteTime": {
     "end_time": "2019-07-16T13:44:33.975559Z",
     "start_time": "2019-07-16T13:44:33.079Z"
    }
   },
   "outputs": [
    {
     "data": {
      "image/png": "[encoded data removed]",
      "text/plain": [
       "Plot with title “Residuals Rankit Plot”"
      ]
     },
     "metadata": {},
     "output_type": "display_data"
    }
   ],
   "source": [
    "qqnorm(resid(fm), main=\"Residuals Rankit Plot\")"
   ]
  },
  {
   "cell_type": "markdown",
   "metadata": {},
   "source": [
    "Clean up again."
   ]
  },
  {
   "cell_type": "code",
   "execution_count": 46,
   "metadata": {
    "ExecuteTime": {
     "end_time": "2019-07-16T13:44:33.985291Z",
     "start_time": "2019-07-16T13:44:33.083Z"
    }
   },
   "outputs": [],
   "source": [
    "rm(fm, fm1, lrf, x, dummy)"
   ]
  },
  {
   "cell_type": "markdown",
   "metadata": {},
   "source": [
    "### Work with the Michelson-Morley experiment\n",
    "\n",
    "The next section looks at data from the classical experiment of Michelson to measure the speed of light. This dataset is available in the morley object, but we will read it to illustrate the `read.table` function.\n",
    "\n",
    "Get the path to the data file."
   ]
  },
  {
   "cell_type": "code",
   "execution_count": 47,
   "metadata": {
    "ExecuteTime": {
     "end_time": "2019-07-16T13:44:34.001201Z",
     "start_time": "2019-07-16T13:44:33.088Z"
    }
   },
   "outputs": [
    {
     "data": {
      "text/html": [
       "'/usr/lib/R/library/datasets/data/morley.tab'"
      ],
      "text/latex": [
       "'/usr/lib/R/library/datasets/data/morley.tab'"
      ],
      "text/markdown": [
       "'/usr/lib/R/library/datasets/data/morley.tab'"
      ],
      "text/plain": [
       "[1] \"/usr/lib/R/library/datasets/data/morley.tab\""
      ]
     },
     "metadata": {},
     "output_type": "display_data"
    }
   ],
   "source": [
    "filepath <- system.file(\"data\", \"morley.tab\" , package=\"datasets\")\n",
    "filepath"
   ]
  },
  {
   "cell_type": "markdown",
   "metadata": {},
   "source": [
    "(Optional) Look at the file, which opens another pane containing the file contents. Use the **x** in the upper right of that pane to close the file view."
   ]
  },
  {
   "cell_type": "code",
   "execution_count": 48,
   "metadata": {
    "ExecuteTime": {
     "end_time": "2019-07-16T13:44:34.013093Z",
     "start_time": "2019-07-16T13:44:33.092Z"
    }
   },
   "outputs": [],
   "source": [
    "file.show(filepath)"
   ]
  },
  {
   "cell_type": "markdown",
   "metadata": {},
   "source": [
    "Read in the Michelson data as a data frame, and look at it. There are five experiments (column Expt) and each has 20 runs (column Run) and sl is the recorded speed of light, suitably coded. "
   ]
  },
  {
   "cell_type": "code",
   "execution_count": 49,
   "metadata": {
    "ExecuteTime": {
     "end_time": "2019-07-16T13:44:34.059306Z",
     "start_time": "2019-07-16T13:44:33.098Z"
    }
   },
   "outputs": [
    {
     "data": {
      "text/html": [
       "<table>\n",
       "<caption>A data.frame: 100 × 3</caption>\n",
       "<thead>\n",
       "\t<tr><th></th><th scope=col>Expt</th><th scope=col>Run</th><th scope=col>Speed</th></tr>\n",
       "\t<tr><th></th><th scope=col>&lt;int&gt;</th><th scope=col>&lt;int&gt;</th><th scope=col>&lt;int&gt;</th></tr>\n",
       "</thead>\n",
       "<tbody>\n",
       "\t<tr><th scope=row>001</th><td>1</td><td> 1</td><td> 850</td></tr>\n",
       "\t<tr><th scope=row>002</th><td>1</td><td> 2</td><td> 740</td></tr>\n",
       "\t<tr><th scope=row>003</th><td>1</td><td> 3</td><td> 900</td></tr>\n",
       "\t<tr><th scope=row>004</th><td>1</td><td> 4</td><td>1070</td></tr>\n",
       "\t<tr><th scope=row>005</th><td>1</td><td> 5</td><td> 930</td></tr>\n",
       "\t<tr><th scope=row>006</th><td>1</td><td> 6</td><td> 850</td></tr>\n",
       "\t<tr><th scope=row>007</th><td>1</td><td> 7</td><td> 950</td></tr>\n",
       "\t<tr><th scope=row>008</th><td>1</td><td> 8</td><td> 980</td></tr>\n",
       "\t<tr><th scope=row>009</th><td>1</td><td> 9</td><td> 980</td></tr>\n",
       "\t<tr><th scope=row>010</th><td>1</td><td>10</td><td> 880</td></tr>\n",
       "\t<tr><th scope=row>011</th><td>1</td><td>11</td><td>1000</td></tr>\n",
       "\t<tr><th scope=row>012</th><td>1</td><td>12</td><td> 980</td></tr>\n",
       "\t<tr><th scope=row>013</th><td>1</td><td>13</td><td> 930</td></tr>\n",
       "\t<tr><th scope=row>014</th><td>1</td><td>14</td><td> 650</td></tr>\n",
       "\t<tr><th scope=row>015</th><td>1</td><td>15</td><td> 760</td></tr>\n",
       "\t<tr><th scope=row>016</th><td>1</td><td>16</td><td> 810</td></tr>\n",
       "\t<tr><th scope=row>017</th><td>1</td><td>17</td><td>1000</td></tr>\n",
       "\t<tr><th scope=row>018</th><td>1</td><td>18</td><td>1000</td></tr>\n",
       "\t<tr><th scope=row>019</th><td>1</td><td>19</td><td> 960</td></tr>\n",
       "\t<tr><th scope=row>020</th><td>1</td><td>20</td><td> 960</td></tr>\n",
       "\t<tr><th scope=row>021</th><td>2</td><td> 1</td><td> 960</td></tr>\n",
       "\t<tr><th scope=row>022</th><td>2</td><td> 2</td><td> 940</td></tr>\n",
       "\t<tr><th scope=row>023</th><td>2</td><td> 3</td><td> 960</td></tr>\n",
       "\t<tr><th scope=row>024</th><td>2</td><td> 4</td><td> 940</td></tr>\n",
       "\t<tr><th scope=row>025</th><td>2</td><td> 5</td><td> 880</td></tr>\n",
       "\t<tr><th scope=row>026</th><td>2</td><td> 6</td><td> 800</td></tr>\n",
       "\t<tr><th scope=row>027</th><td>2</td><td> 7</td><td> 850</td></tr>\n",
       "\t<tr><th scope=row>028</th><td>2</td><td> 8</td><td> 880</td></tr>\n",
       "\t<tr><th scope=row>029</th><td>2</td><td> 9</td><td> 900</td></tr>\n",
       "\t<tr><th scope=row>030</th><td>2</td><td>10</td><td> 840</td></tr>\n",
       "\t<tr><th scope=row>⋮</th><td>⋮</td><td>⋮</td><td>⋮</td></tr>\n",
       "\t<tr><th scope=row>071</th><td>4</td><td>11</td><td>910</td></tr>\n",
       "\t<tr><th scope=row>072</th><td>4</td><td>12</td><td>920</td></tr>\n",
       "\t<tr><th scope=row>073</th><td>4</td><td>13</td><td>890</td></tr>\n",
       "\t<tr><th scope=row>074</th><td>4</td><td>14</td><td>860</td></tr>\n",
       "\t<tr><th scope=row>075</th><td>4</td><td>15</td><td>880</td></tr>\n",
       "\t<tr><th scope=row>076</th><td>4</td><td>16</td><td>720</td></tr>\n",
       "\t<tr><th scope=row>077</th><td>4</td><td>17</td><td>840</td></tr>\n",
       "\t<tr><th scope=row>078</th><td>4</td><td>18</td><td>850</td></tr>\n",
       "\t<tr><th scope=row>079</th><td>4</td><td>19</td><td>850</td></tr>\n",
       "\t<tr><th scope=row>080</th><td>4</td><td>20</td><td>780</td></tr>\n",
       "\t<tr><th scope=row>081</th><td>5</td><td> 1</td><td>890</td></tr>\n",
       "\t<tr><th scope=row>082</th><td>5</td><td> 2</td><td>840</td></tr>\n",
       "\t<tr><th scope=row>083</th><td>5</td><td> 3</td><td>780</td></tr>\n",
       "\t<tr><th scope=row>084</th><td>5</td><td> 4</td><td>810</td></tr>\n",
       "\t<tr><th scope=row>085</th><td>5</td><td> 5</td><td>760</td></tr>\n",
       "\t<tr><th scope=row>086</th><td>5</td><td> 6</td><td>810</td></tr>\n",
       "\t<tr><th scope=row>087</th><td>5</td><td> 7</td><td>790</td></tr>\n",
       "\t<tr><th scope=row>088</th><td>5</td><td> 8</td><td>810</td></tr>\n",
       "\t<tr><th scope=row>089</th><td>5</td><td> 9</td><td>820</td></tr>\n",
       "\t<tr><th scope=row>090</th><td>5</td><td>10</td><td>850</td></tr>\n",
       "\t<tr><th scope=row>091</th><td>5</td><td>11</td><td>870</td></tr>\n",
       "\t<tr><th scope=row>092</th><td>5</td><td>12</td><td>870</td></tr>\n",
       "\t<tr><th scope=row>093</th><td>5</td><td>13</td><td>810</td></tr>\n",
       "\t<tr><th scope=row>094</th><td>5</td><td>14</td><td>740</td></tr>\n",
       "\t<tr><th scope=row>095</th><td>5</td><td>15</td><td>810</td></tr>\n",
       "\t<tr><th scope=row>096</th><td>5</td><td>16</td><td>940</td></tr>\n",
       "\t<tr><th scope=row>097</th><td>5</td><td>17</td><td>950</td></tr>\n",
       "\t<tr><th scope=row>098</th><td>5</td><td>18</td><td>800</td></tr>\n",
       "\t<tr><th scope=row>099</th><td>5</td><td>19</td><td>810</td></tr>\n",
       "\t<tr><th scope=row>100</th><td>5</td><td>20</td><td>870</td></tr>\n",
       "</tbody>\n",
       "</table>\n"
      ],
      "text/latex": [
       "A data.frame: 100 × 3\n",
       "\\begin{tabular}{r|lll}\n",
       "  & Expt & Run & Speed\\\\\n",
       "  & <int> & <int> & <int>\\\\\n",
       "\\hline\n",
       "\t001 & 1 &  1 &  850\\\\\n",
       "\t002 & 1 &  2 &  740\\\\\n",
       "\t003 & 1 &  3 &  900\\\\\n",
       "\t004 & 1 &  4 & 1070\\\\\n",
       "\t005 & 1 &  5 &  930\\\\\n",
       "\t006 & 1 &  6 &  850\\\\\n",
       "\t007 & 1 &  7 &  950\\\\\n",
       "\t008 & 1 &  8 &  980\\\\\n",
       "\t009 & 1 &  9 &  980\\\\\n",
       "\t010 & 1 & 10 &  880\\\\\n",
       "\t011 & 1 & 11 & 1000\\\\\n",
       "\t012 & 1 & 12 &  980\\\\\n",
       "\t013 & 1 & 13 &  930\\\\\n",
       "\t014 & 1 & 14 &  650\\\\\n",
       "\t015 & 1 & 15 &  760\\\\\n",
       "\t016 & 1 & 16 &  810\\\\\n",
       "\t017 & 1 & 17 & 1000\\\\\n",
       "\t018 & 1 & 18 & 1000\\\\\n",
       "\t019 & 1 & 19 &  960\\\\\n",
       "\t020 & 1 & 20 &  960\\\\\n",
       "\t021 & 2 &  1 &  960\\\\\n",
       "\t022 & 2 &  2 &  940\\\\\n",
       "\t023 & 2 &  3 &  960\\\\\n",
       "\t024 & 2 &  4 &  940\\\\\n",
       "\t025 & 2 &  5 &  880\\\\\n",
       "\t026 & 2 &  6 &  800\\\\\n",
       "\t027 & 2 &  7 &  850\\\\\n",
       "\t028 & 2 &  8 &  880\\\\\n",
       "\t029 & 2 &  9 &  900\\\\\n",
       "\t030 & 2 & 10 &  840\\\\\n",
       "\t⋮ & ⋮ & ⋮ & ⋮\\\\\n",
       "\t071 & 4 & 11 & 910\\\\\n",
       "\t072 & 4 & 12 & 920\\\\\n",
       "\t073 & 4 & 13 & 890\\\\\n",
       "\t074 & 4 & 14 & 860\\\\\n",
       "\t075 & 4 & 15 & 880\\\\\n",
       "\t076 & 4 & 16 & 720\\\\\n",
       "\t077 & 4 & 17 & 840\\\\\n",
       "\t078 & 4 & 18 & 850\\\\\n",
       "\t079 & 4 & 19 & 850\\\\\n",
       "\t080 & 4 & 20 & 780\\\\\n",
       "\t081 & 5 &  1 & 890\\\\\n",
       "\t082 & 5 &  2 & 840\\\\\n",
       "\t083 & 5 &  3 & 780\\\\\n",
       "\t084 & 5 &  4 & 810\\\\\n",
       "\t085 & 5 &  5 & 760\\\\\n",
       "\t086 & 5 &  6 & 810\\\\\n",
       "\t087 & 5 &  7 & 790\\\\\n",
       "\t088 & 5 &  8 & 810\\\\\n",
       "\t089 & 5 &  9 & 820\\\\\n",
       "\t090 & 5 & 10 & 850\\\\\n",
       "\t091 & 5 & 11 & 870\\\\\n",
       "\t092 & 5 & 12 & 870\\\\\n",
       "\t093 & 5 & 13 & 810\\\\\n",
       "\t094 & 5 & 14 & 740\\\\\n",
       "\t095 & 5 & 15 & 810\\\\\n",
       "\t096 & 5 & 16 & 940\\\\\n",
       "\t097 & 5 & 17 & 950\\\\\n",
       "\t098 & 5 & 18 & 800\\\\\n",
       "\t099 & 5 & 19 & 810\\\\\n",
       "\t100 & 5 & 20 & 870\\\\\n",
       "\\end{tabular}\n"
      ],
      "text/markdown": [
       "\n",
       "A data.frame: 100 × 3\n",
       "\n",
       "| <!--/--> | Expt &lt;int&gt; | Run &lt;int&gt; | Speed &lt;int&gt; |\n",
       "|---|---|---|---|\n",
       "| 001 | 1 |  1 |  850 |\n",
       "| 002 | 1 |  2 |  740 |\n",
       "| 003 | 1 |  3 |  900 |\n",
       "| 004 | 1 |  4 | 1070 |\n",
       "| 005 | 1 |  5 |  930 |\n",
       "| 006 | 1 |  6 |  850 |\n",
       "| 007 | 1 |  7 |  950 |\n",
       "| 008 | 1 |  8 |  980 |\n",
       "| 009 | 1 |  9 |  980 |\n",
       "| 010 | 1 | 10 |  880 |\n",
       "| 011 | 1 | 11 | 1000 |\n",
       "| 012 | 1 | 12 |  980 |\n",
       "| 013 | 1 | 13 |  930 |\n",
       "| 014 | 1 | 14 |  650 |\n",
       "| 015 | 1 | 15 |  760 |\n",
       "| 016 | 1 | 16 |  810 |\n",
       "| 017 | 1 | 17 | 1000 |\n",
       "| 018 | 1 | 18 | 1000 |\n",
       "| 019 | 1 | 19 |  960 |\n",
       "| 020 | 1 | 20 |  960 |\n",
       "| 021 | 2 |  1 |  960 |\n",
       "| 022 | 2 |  2 |  940 |\n",
       "| 023 | 2 |  3 |  960 |\n",
       "| 024 | 2 |  4 |  940 |\n",
       "| 025 | 2 |  5 |  880 |\n",
       "| 026 | 2 |  6 |  800 |\n",
       "| 027 | 2 |  7 |  850 |\n",
       "| 028 | 2 |  8 |  880 |\n",
       "| 029 | 2 |  9 |  900 |\n",
       "| 030 | 2 | 10 |  840 |\n",
       "| ⋮ | ⋮ | ⋮ | ⋮ |\n",
       "| 071 | 4 | 11 | 910 |\n",
       "| 072 | 4 | 12 | 920 |\n",
       "| 073 | 4 | 13 | 890 |\n",
       "| 074 | 4 | 14 | 860 |\n",
       "| 075 | 4 | 15 | 880 |\n",
       "| 076 | 4 | 16 | 720 |\n",
       "| 077 | 4 | 17 | 840 |\n",
       "| 078 | 4 | 18 | 850 |\n",
       "| 079 | 4 | 19 | 850 |\n",
       "| 080 | 4 | 20 | 780 |\n",
       "| 081 | 5 |  1 | 890 |\n",
       "| 082 | 5 |  2 | 840 |\n",
       "| 083 | 5 |  3 | 780 |\n",
       "| 084 | 5 |  4 | 810 |\n",
       "| 085 | 5 |  5 | 760 |\n",
       "| 086 | 5 |  6 | 810 |\n",
       "| 087 | 5 |  7 | 790 |\n",
       "| 088 | 5 |  8 | 810 |\n",
       "| 089 | 5 |  9 | 820 |\n",
       "| 090 | 5 | 10 | 850 |\n",
       "| 091 | 5 | 11 | 870 |\n",
       "| 092 | 5 | 12 | 870 |\n",
       "| 093 | 5 | 13 | 810 |\n",
       "| 094 | 5 | 14 | 740 |\n",
       "| 095 | 5 | 15 | 810 |\n",
       "| 096 | 5 | 16 | 940 |\n",
       "| 097 | 5 | 17 | 950 |\n",
       "| 098 | 5 | 18 | 800 |\n",
       "| 099 | 5 | 19 | 810 |\n",
       "| 100 | 5 | 20 | 870 |\n",
       "\n"
      ],
      "text/plain": [
       "    Expt Run Speed\n",
       "001 1     1   850 \n",
       "002 1     2   740 \n",
       "003 1     3   900 \n",
       "004 1     4  1070 \n",
       "005 1     5   930 \n",
       "006 1     6   850 \n",
       "007 1     7   950 \n",
       "008 1     8   980 \n",
       "009 1     9   980 \n",
       "010 1    10   880 \n",
       "011 1    11  1000 \n",
       "012 1    12   980 \n",
       "013 1    13   930 \n",
       "014 1    14   650 \n",
       "015 1    15   760 \n",
       "016 1    16   810 \n",
       "017 1    17  1000 \n",
       "018 1    18  1000 \n",
       "019 1    19   960 \n",
       "020 1    20   960 \n",
       "021 2     1   960 \n",
       "022 2     2   940 \n",
       "023 2     3   960 \n",
       "024 2     4   940 \n",
       "025 2     5   880 \n",
       "026 2     6   800 \n",
       "027 2     7   850 \n",
       "028 2     8   880 \n",
       "029 2     9   900 \n",
       "030 2    10   840 \n",
       "⋮   ⋮    ⋮   ⋮    \n",
       "071 4    11  910  \n",
       "072 4    12  920  \n",
       "073 4    13  890  \n",
       "074 4    14  860  \n",
       "075 4    15  880  \n",
       "076 4    16  720  \n",
       "077 4    17  840  \n",
       "078 4    18  850  \n",
       "079 4    19  850  \n",
       "080 4    20  780  \n",
       "081 5     1  890  \n",
       "082 5     2  840  \n",
       "083 5     3  780  \n",
       "084 5     4  810  \n",
       "085 5     5  760  \n",
       "086 5     6  810  \n",
       "087 5     7  790  \n",
       "088 5     8  810  \n",
       "089 5     9  820  \n",
       "090 5    10  850  \n",
       "091 5    11  870  \n",
       "092 5    12  870  \n",
       "093 5    13  810  \n",
       "094 5    14  740  \n",
       "095 5    15  810  \n",
       "096 5    16  940  \n",
       "097 5    17  950  \n",
       "098 5    18  800  \n",
       "099 5    19  810  \n",
       "100 5    20  870  "
      ]
     },
     "metadata": {},
     "output_type": "display_data"
    }
   ],
   "source": [
    "mm <- read.table(filepath)\n",
    "mm"
   ]
  },
  {
   "cell_type": "markdown",
   "metadata": {},
   "source": [
    "Change Expt and Run into factors. "
   ]
  },
  {
   "cell_type": "code",
   "execution_count": 50,
   "metadata": {
    "ExecuteTime": {
     "end_time": "2019-07-16T13:44:34.071271Z",
     "start_time": "2019-07-16T13:44:33.102Z"
    }
   },
   "outputs": [],
   "source": [
    "mm$Expt <- factor(mm$Expt)\n",
    "mm$Run <- factor(mm$Run)"
   ]
  },
  {
   "cell_type": "markdown",
   "metadata": {},
   "source": [
    "Make the data frame visible at position 3 (the default). "
   ]
  },
  {
   "cell_type": "code",
   "execution_count": 51,
   "metadata": {
    "ExecuteTime": {
     "end_time": "2019-07-16T13:44:34.082972Z",
     "start_time": "2019-07-16T13:44:33.106Z"
    }
   },
   "outputs": [],
   "source": [
    "attach(mm)"
   ]
  },
  {
   "cell_type": "markdown",
   "metadata": {},
   "source": [
    "Compare the five experiments with simple boxplots. "
   ]
  },
  {
   "cell_type": "code",
   "execution_count": 52,
   "metadata": {
    "ExecuteTime": {
     "end_time": "2019-07-16T13:44:34.135924Z",
     "start_time": "2019-07-16T13:44:33.113Z"
    }
   },
   "outputs": [
    {
     "data": {
      "image/png": "[encoded data removed]",
      "text/plain": [
       "Plot with title “Speed of Light Data”"
      ]
     },
     "metadata": {},
     "output_type": "display_data"
    }
   ],
   "source": [
    "# Set plot size for this section\n",
    "options(repr.plot.width=8, repr.plot.height=6)\n",
    "\n",
    "plot(Expt, Speed, main=\"Speed of Light Data\", xlab=\"Experiment No.\")"
   ]
  },
  {
   "cell_type": "markdown",
   "metadata": {},
   "source": [
    "Analyze as a randomized block, with ‘runs’ and ‘experiments’ as factors. "
   ]
  },
  {
   "cell_type": "code",
   "execution_count": 53,
   "metadata": {
    "ExecuteTime": {
     "end_time": "2019-07-16T13:44:34.153100Z",
     "start_time": "2019-07-16T13:44:33.117Z"
    }
   },
   "outputs": [
    {
     "data": {
      "text/plain": [
       "            Df Sum Sq Mean Sq F value  Pr(>F)   \n",
       "Run         19 113344    5965   1.105 0.36321   \n",
       "Expt         4  94514   23629   4.378 0.00307 **\n",
       "Residuals   76 410166    5397                   \n",
       "---\n",
       "Signif. codes:  0 ‘***’ 0.001 ‘**’ 0.01 ‘*’ 0.05 ‘.’ 0.1 ‘ ’ 1"
      ]
     },
     "metadata": {},
     "output_type": "display_data"
    }
   ],
   "source": [
    "fm <- aov(Speed ~ Run + Expt, data=mm)\n",
    "summary(fm)"
   ]
  },
  {
   "cell_type": "markdown",
   "metadata": {},
   "source": [
    "Fit the sub-model omitting ‘runs’, and compare using a formal analysis of variance. "
   ]
  },
  {
   "cell_type": "code",
   "execution_count": 54,
   "metadata": {
    "ExecuteTime": {
     "end_time": "2019-07-16T13:44:34.175841Z",
     "start_time": "2019-07-16T13:44:33.122Z"
    }
   },
   "outputs": [
    {
     "data": {
      "text/html": [
       "<table>\n",
       "<caption>A anova: 2 × 6</caption>\n",
       "<thead>\n",
       "\t<tr><th scope=col>Res.Df</th><th scope=col>RSS</th><th scope=col>Df</th><th scope=col>Sum of Sq</th><th scope=col>F</th><th scope=col>Pr(&gt;F)</th></tr>\n",
       "\t<tr><th scope=col>&lt;dbl&gt;</th><th scope=col>&lt;dbl&gt;</th><th scope=col>&lt;dbl&gt;</th><th scope=col>&lt;dbl&gt;</th><th scope=col>&lt;dbl&gt;</th><th scope=col>&lt;dbl&gt;</th></tr>\n",
       "</thead>\n",
       "<tbody>\n",
       "\t<tr><td>95</td><td>523510</td><td>NA</td><td>    NA</td><td>      NA</td><td>       NA</td></tr>\n",
       "\t<tr><td>76</td><td>410166</td><td>19</td><td>113344</td><td>1.105348</td><td>0.3632093</td></tr>\n",
       "</tbody>\n",
       "</table>\n"
      ],
      "text/latex": [
       "A anova: 2 × 6\n",
       "\\begin{tabular}{r|llllll}\n",
       " Res.Df & RSS & Df & Sum of Sq & F & Pr(>F)\\\\\n",
       " <dbl> & <dbl> & <dbl> & <dbl> & <dbl> & <dbl>\\\\\n",
       "\\hline\n",
       "\t 95 & 523510 & NA &     NA &       NA &        NA\\\\\n",
       "\t 76 & 410166 & 19 & 113344 & 1.105348 & 0.3632093\\\\\n",
       "\\end{tabular}\n"
      ],
      "text/markdown": [
       "\n",
       "A anova: 2 × 6\n",
       "\n",
       "| Res.Df &lt;dbl&gt; | RSS &lt;dbl&gt; | Df &lt;dbl&gt; | Sum of Sq &lt;dbl&gt; | F &lt;dbl&gt; | Pr(&gt;F) &lt;dbl&gt; |\n",
       "|---|---|---|---|---|---|\n",
       "| 95 | 523510 | NA |     NA |       NA |        NA |\n",
       "| 76 | 410166 | 19 | 113344 | 1.105348 | 0.3632093 |\n",
       "\n"
      ],
      "text/plain": [
       "  Res.Df RSS    Df Sum of Sq F        Pr(>F)   \n",
       "1 95     523510 NA     NA          NA        NA\n",
       "2 76     410166 19 113344    1.105348 0.3632093"
      ]
     },
     "metadata": {},
     "output_type": "display_data"
    }
   ],
   "source": [
    "fm0 <- update(fm, . ~ . - Run)\n",
    "anova(fm0, fm)"
   ]
  },
  {
   "cell_type": "markdown",
   "metadata": {},
   "source": [
    "Clean up before moving on. "
   ]
  },
  {
   "cell_type": "code",
   "execution_count": 55,
   "metadata": {
    "ExecuteTime": {
     "end_time": "2019-07-16T13:44:34.185700Z",
     "start_time": "2019-07-16T13:44:33.126Z"
    }
   },
   "outputs": [],
   "source": [
    "detach()\n",
    "rm(fm, fm0)"
   ]
  },
  {
   "cell_type": "markdown",
   "metadata": {},
   "source": [
    "### Graphical features: contour and image plots\n",
    "\n",
    "x is a vector of 50 equally spaced values in the interval [-pi\\, pi]. y is the same. "
   ]
  },
  {
   "cell_type": "code",
   "execution_count": 56,
   "metadata": {
    "ExecuteTime": {
     "end_time": "2019-07-16T13:44:34.195559Z",
     "start_time": "2019-07-16T13:44:33.130Z"
    }
   },
   "outputs": [],
   "source": [
    "x <- seq(-pi, pi, len=50)\n",
    "y <- x"
   ]
  },
  {
   "cell_type": "markdown",
   "metadata": {},
   "source": [
    "f is a square matrix, with rows and columns indexed by x and y respectively, of values of the function cos(y)/(1 + x^2). "
   ]
  },
  {
   "cell_type": "code",
   "execution_count": 57,
   "metadata": {
    "ExecuteTime": {
     "end_time": "2019-07-16T13:44:34.204409Z",
     "start_time": "2019-07-16T13:44:33.134Z"
    }
   },
   "outputs": [],
   "source": [
    "f <- outer(x, y, function(x, y) cos(y)/(1 + x^2))"
   ]
  },
  {
   "cell_type": "markdown",
   "metadata": {},
   "source": [
    "Save the plotting parameters and set the plotting region to “square”."
   ]
  },
  {
   "cell_type": "code",
   "execution_count": 58,
   "metadata": {
    "ExecuteTime": {
     "end_time": "2019-07-16T13:44:34.214505Z",
     "start_time": "2019-07-16T13:44:33.140Z"
    }
   },
   "outputs": [],
   "source": [
    "oldpar <- par(no.readonly = TRUE)\n",
    "par(pty=\"s\")"
   ]
  },
  {
   "cell_type": "markdown",
   "metadata": {},
   "source": [
    "Make a contour map of f; add in more lines for more detail. "
   ]
  },
  {
   "cell_type": "code",
   "execution_count": 59,
   "metadata": {
    "ExecuteTime": {
     "end_time": "2019-07-16T13:44:34.295397Z",
     "start_time": "2019-07-16T13:44:33.148Z"
    }
   },
   "outputs": [
    {
     "data": {
      "image/png": "[encoded data removed]",
      "text/plain": [
       "plot without title"
      ]
     },
     "metadata": {},
     "output_type": "display_data"
    }
   ],
   "source": [
    "contour(x, y, f)\n",
    "contour(x, y, f, nlevels=15, add=TRUE)"
   ]
  },
  {
   "cell_type": "markdown",
   "metadata": {},
   "source": [
    "Make a contour plot. fa is the “asymmetric part” of f. (t() is transpose). "
   ]
  },
  {
   "cell_type": "code",
   "execution_count": 60,
   "metadata": {
    "ExecuteTime": {
     "end_time": "2019-07-16T13:44:34.357933Z",
     "start_time": "2019-07-16T13:44:33.155Z"
    }
   },
   "outputs": [
    {
     "data": {
      "image/png": "[encoded data removed]",
      "text/plain": [
       "plot without title"
      ]
     },
     "metadata": {},
     "output_type": "display_data"
    }
   ],
   "source": [
    "fa <- (f-t(f))/2\n",
    "contour(x, y, fa, nlevels=15)"
   ]
  },
  {
   "cell_type": "markdown",
   "metadata": {},
   "source": [
    "Then restore the old graphics parameters. "
   ]
  },
  {
   "cell_type": "code",
   "execution_count": 61,
   "metadata": {
    "ExecuteTime": {
     "end_time": "2019-07-16T13:44:34.364970Z",
     "start_time": "2019-07-16T13:44:33.159Z"
    }
   },
   "outputs": [],
   "source": [
    "par(oldpar)"
   ]
  },
  {
   "cell_type": "markdown",
   "metadata": {},
   "source": [
    "Make some high density image plots:"
   ]
  },
  {
   "cell_type": "code",
   "execution_count": 62,
   "metadata": {
    "ExecuteTime": {
     "end_time": "2019-07-16T13:44:34.441298Z",
     "start_time": "2019-07-16T13:44:33.176Z"
    }
   },
   "outputs": [
    {
     "data": {
      "image/png": "[encoded data removed]",
      "text/plain": [
       "plot without title"
      ]
     },
     "metadata": {},
     "output_type": "display_data"
    },
    {
     "data": {
      "image/png": "[encoded data removed]",
      "text/plain": [
       "plot without title"
      ]
     },
     "metadata": {},
     "output_type": "display_data"
    }
   ],
   "source": [
    "image(x, y, f)\n",
    "image(x, y, fa)"
   ]
  },
  {
   "cell_type": "markdown",
   "metadata": {},
   "source": [
    "Clean up before moving on."
   ]
  },
  {
   "cell_type": "code",
   "execution_count": 63,
   "metadata": {
    "ExecuteTime": {
     "end_time": "2019-07-16T13:44:34.451762Z",
     "start_time": "2019-07-16T13:44:33.181Z"
    }
   },
   "outputs": [
    {
     "data": {
      "text/html": [
       "<ol class=list-inline>\n",
       "\t<li>'f'</li>\n",
       "\t<li>'fa'</li>\n",
       "\t<li>'filepath'</li>\n",
       "\t<li>'fruit'</li>\n",
       "\t<li>'ind'</li>\n",
       "\t<li>'labs'</li>\n",
       "\t<li>'lunch'</li>\n",
       "\t<li>'mm'</li>\n",
       "\t<li>'n'</li>\n",
       "\t<li>'oldpar'</li>\n",
       "\t<li>'s3'</li>\n",
       "\t<li>'s4'</li>\n",
       "\t<li>'s5'</li>\n",
       "\t<li>'s6'</li>\n",
       "\t<li>'t'</li>\n",
       "\t<li>'T'</li>\n",
       "\t<li>'temp'</li>\n",
       "\t<li>'v'</li>\n",
       "\t<li>'w'</li>\n",
       "\t<li>'x'</li>\n",
       "\t<li>'y'</li>\n",
       "\t<li>'z'</li>\n",
       "</ol>\n"
      ],
      "text/latex": [
       "\\begin{enumerate*}\n",
       "\\item 'f'\n",
       "\\item 'fa'\n",
       "\\item 'filepath'\n",
       "\\item 'fruit'\n",
       "\\item 'ind'\n",
       "\\item 'labs'\n",
       "\\item 'lunch'\n",
       "\\item 'mm'\n",
       "\\item 'n'\n",
       "\\item 'oldpar'\n",
       "\\item 's3'\n",
       "\\item 's4'\n",
       "\\item 's5'\n",
       "\\item 's6'\n",
       "\\item 't'\n",
       "\\item 'T'\n",
       "\\item 'temp'\n",
       "\\item 'v'\n",
       "\\item 'w'\n",
       "\\item 'x'\n",
       "\\item 'y'\n",
       "\\item 'z'\n",
       "\\end{enumerate*}\n"
      ],
      "text/markdown": [
       "1. 'f'\n",
       "2. 'fa'\n",
       "3. 'filepath'\n",
       "4. 'fruit'\n",
       "5. 'ind'\n",
       "6. 'labs'\n",
       "7. 'lunch'\n",
       "8. 'mm'\n",
       "9. 'n'\n",
       "10. 'oldpar'\n",
       "11. 's3'\n",
       "12. 's4'\n",
       "13. 's5'\n",
       "14. 's6'\n",
       "15. 't'\n",
       "16. 'T'\n",
       "17. 'temp'\n",
       "18. 'v'\n",
       "19. 'w'\n",
       "20. 'x'\n",
       "21. 'y'\n",
       "22. 'z'\n",
       "\n",
       "\n"
      ],
      "text/plain": [
       " [1] \"f\"        \"fa\"       \"filepath\" \"fruit\"    \"ind\"      \"labs\"    \n",
       " [7] \"lunch\"    \"mm\"       \"n\"        \"oldpar\"   \"s3\"       \"s4\"      \n",
       "[13] \"s5\"       \"s6\"       \"t\"        \"T\"        \"temp\"     \"v\"       \n",
       "[19] \"w\"        \"x\"        \"y\"        \"z\"       "
      ]
     },
     "metadata": {},
     "output_type": "display_data"
    }
   ],
   "source": [
    "objects(); rm(x, y, f, fa)"
   ]
  },
  {
   "cell_type": "markdown",
   "metadata": {},
   "source": [
    "### Complex arithmetic in R\n",
    "\n",
    "1i is used for the complex number i."
   ]
  },
  {
   "cell_type": "code",
   "execution_count": 64,
   "metadata": {
    "ExecuteTime": {
     "end_time": "2019-07-16T13:44:34.461248Z",
     "start_time": "2019-07-16T13:44:33.185Z"
    }
   },
   "outputs": [],
   "source": [
    "th <- seq(-pi, pi, len=100)\n",
    "z <- exp(1i*th)"
   ]
  },
  {
   "cell_type": "markdown",
   "metadata": {},
   "source": [
    "Plotting complex arguments means plot imaginary versus real parts. This should be a circle. "
   ]
  },
  {
   "cell_type": "code",
   "execution_count": 65,
   "metadata": {
    "ExecuteTime": {
     "end_time": "2019-07-16T13:44:34.508134Z",
     "start_time": "2019-07-16T13:44:33.192Z"
    }
   },
   "outputs": [
    {
     "data": {
      "image/png": "[encoded data removed]",
      "text/plain": [
       "plot without title"
      ]
     },
     "metadata": {},
     "output_type": "display_data"
    }
   ],
   "source": [
    "# Set plot size for this section\n",
    "options(repr.plot.width=6, repr.plot.height=6)\n",
    "\n",
    "par(pty=\"s\")\n",
    "plot(z, type=\"l\")"
   ]
  },
  {
   "cell_type": "markdown",
   "metadata": {},
   "source": [
    "Suppose we want to sample points within the unit circle. One method would be to take complex numbers with standard normal real and imaginary parts:"
   ]
  },
  {
   "cell_type": "code",
   "execution_count": 66,
   "metadata": {
    "ExecuteTime": {
     "end_time": "2019-07-16T13:44:34.518364Z",
     "start_time": "2019-07-16T13:44:33.196Z"
    }
   },
   "outputs": [],
   "source": [
    "w <- rnorm(100) + rnorm(100)*1i"
   ]
  },
  {
   "cell_type": "markdown",
   "metadata": {},
   "source": [
    "And to map any outside the circle onto their reciprocal. "
   ]
  },
  {
   "cell_type": "code",
   "execution_count": 67,
   "metadata": {
    "ExecuteTime": {
     "end_time": "2019-07-16T13:44:34.528386Z",
     "start_time": "2019-07-16T13:44:33.200Z"
    }
   },
   "outputs": [],
   "source": [
    "w <- ifelse(Mod(w) > 1, 1/w, w)"
   ]
  },
  {
   "cell_type": "markdown",
   "metadata": {},
   "source": [
    "All points are inside the unit circle, but the distribution is not uniform. "
   ]
  },
  {
   "cell_type": "code",
   "execution_count": 68,
   "metadata": {
    "ExecuteTime": {
     "end_time": "2019-07-16T13:44:34.580470Z",
     "start_time": "2019-07-16T13:44:33.207Z"
    }
   },
   "outputs": [
    {
     "data": {
      "image/png": "[encoded data removed]",
      "text/plain": [
       "plot without title"
      ]
     },
     "metadata": {},
     "output_type": "display_data"
    }
   ],
   "source": [
    "plot(w, xlim=c(-1,1), ylim=c(-1,1), pch=\"+\",xlab=\"x\", ylab=\"y\")\n",
    "lines(z)"
   ]
  },
  {
   "cell_type": "markdown",
   "metadata": {},
   "source": [
    "The second method uses the uniform distribution. The points should now look more evenly spaced over the disc. "
   ]
  },
  {
   "cell_type": "code",
   "execution_count": 69,
   "metadata": {
    "ExecuteTime": {
     "end_time": "2019-07-16T13:44:34.630981Z",
     "start_time": "2019-07-16T13:44:33.213Z"
    }
   },
   "outputs": [
    {
     "data": {
      "image/png": "[encoded data removed]",
      "text/plain": [
       "plot without title"
      ]
     },
     "metadata": {},
     "output_type": "display_data"
    }
   ],
   "source": [
    "w <- sqrt(runif(100))*exp(2*pi*runif(100)*1i)\n",
    "plot(w, xlim=c(-1,1), ylim=c(-1,1), pch=\"+\", xlab=\"x\", ylab=\"y\")\n",
    "lines(z)"
   ]
  },
  {
   "cell_type": "markdown",
   "metadata": {},
   "source": [
    "Clean up again. "
   ]
  },
  {
   "cell_type": "code",
   "execution_count": 70,
   "metadata": {
    "ExecuteTime": {
     "end_time": "2019-07-16T13:44:34.640874Z",
     "start_time": "2019-07-16T13:44:33.217Z"
    }
   },
   "outputs": [],
   "source": [
    "rm(th, w, z)"
   ]
  },
  {
   "cell_type": "markdown",
   "metadata": {},
   "source": [
    " # Comparison of R and S graphics capabilities"
   ]
  },
  {
   "cell_type": "markdown",
   "metadata": {},
   "source": [
    "The following code cells illustrate some of the differences between R and S graphics capabilities. Colors are generally specified by a character string name (taken from the X11 rgb.txt file) and that line textures are given similarly. The parameter \"bg\" sets the background parameter for the plot and there is also an \"fg\" parameter which sets the foreground color."
   ]
  },
  {
   "cell_type": "code",
   "execution_count": 71,
   "metadata": {
    "ExecuteTime": {
     "end_time": "2019-07-16T13:44:34.657144Z",
     "start_time": "2019-07-16T13:44:33.223Z"
    }
   },
   "outputs": [],
   "source": [
    "require(datasets)\n",
    "\n",
    "require(grDevices); require(graphics)"
   ]
  },
  {
   "cell_type": "code",
   "execution_count": 72,
   "metadata": {
    "ExecuteTime": {
     "end_time": "2019-07-16T13:44:34.758156Z",
     "start_time": "2019-07-16T13:44:33.228Z"
    }
   },
   "outputs": [
    {
     "data": {
      "text/html": [],
      "text/latex": [],
      "text/markdown": [],
      "text/plain": [
       "integer(0)"
      ]
     },
     "metadata": {},
     "output_type": "display_data"
    },
    {
     "data": {
      "image/png": "[encoded data removed]",
      "text/plain": [
       "Plot with title “Simple Use of Color In a Plot”"
      ]
     },
     "metadata": {},
     "output_type": "display_data"
    }
   ],
   "source": [
    "# Set plot size for this section\n",
    "options(repr.plot.width=8, repr.plot.height=6)\n",
    "\n",
    "x <- stats::rnorm(50)\n",
    "opar <- par(bg = \"white\")\n",
    "plot(x, ann = FALSE, type = \"n\") +\n",
    "abline(h = 0, col = gray(.90)) +\n",
    "lines(x, col = \"green4\", lty = \"dotted\") +\n",
    "points(x, bg = \"limegreen\", pch = 21) +\n",
    "title(main = \"Simple Use of Color In a Plot\",\n",
    "       xlab = \"Just a Whisper of a Label\",\n",
    "       col.main = \"blue\", col.lab = gray(.8),\n",
    "       cex.main = 1.2, cex.lab = 1.0, font.main = 4, font.lab = 3)"
   ]
  },
  {
   "cell_type": "markdown",
   "metadata": {},
   "source": [
    "## A little color wheel.\n",
    "\n",
    "This code plots equally spaced hues in a pie chart. On low-quality monitors you may find that numerically equispaced are not visually equispaced and may cluster at the RGB primaries. On high-quality monitor, the color wheel should appear quite accurate."
   ]
  },
  {
   "cell_type": "code",
   "execution_count": 73,
   "metadata": {
    "ExecuteTime": {
     "end_time": "2019-07-16T13:44:34.851598Z",
     "start_time": "2019-07-16T13:44:33.235Z"
    }
   },
   "outputs": [
    {
     "data": {
      "text/html": [],
      "text/latex": [],
      "text/markdown": [],
      "text/plain": [
       "integer(0)"
      ]
     },
     "metadata": {},
     "output_type": "display_data"
    },
    {
     "data": {
      "image/png": "[encoded data removed]",
      "text/plain": [
       "Plot with title “A Sample Color Wheel”"
      ]
     },
     "metadata": {},
     "output_type": "display_data"
    }
   ],
   "source": [
    "# Set plot size for this section\n",
    "options(repr.plot.width=8, repr.plot.height=6)\n",
    "\n",
    "par(bg = \"gray\")\n",
    "\n",
    "pie(rep(1,24), col = rainbow(24), radius = 0.9) +\n",
    "title(main = \"A Sample Color Wheel\", cex.main = 1.4, font.main = 3) +\n",
    "title(xlab = \"(Use this as a test of monitor linearity)\",\n",
    "      cex.lab = 0.8, font.lab = 3)"
   ]
  },
  {
   "cell_type": "markdown",
   "metadata": {},
   "source": [
    " A scatterplot matrix using Iris data"
   ]
  },
  {
   "cell_type": "code",
   "execution_count": 74,
   "metadata": {
    "ExecuteTime": {
     "end_time": "2019-07-16T13:44:35.041702Z",
     "start_time": "2019-07-16T13:44:33.245Z"
    },
    "scrolled": false
   },
   "outputs": [
    {
     "data": {
      "image/png": "[encoded data removed]",
      "text/plain": [
       "plot without title"
      ]
     },
     "metadata": {},
     "output_type": "display_data"
    }
   ],
   "source": [
    "# Set plot size for this section\n",
    "options(repr.plot.width=8, repr.plot.height=6)\n",
    "\n",
    "pairs(iris[1:4], main=\"Edgar Anderson's Iris Data\", pch=21,\n",
    "       bg = c(\"red\", \"green3\", \"blue\")[unclass(iris$Species)])"
   ]
  }
 ],
 "metadata": {
  "kernelspec": {
   "display_name": "R",
   "language": "R",
   "name": "ir"
  },
  "language_info": {
   "codemirror_mode": "r",
   "file_extension": ".r",
   "mimetype": "text/x-r-source",
   "name": "R",
   "pygments_lexer": "r",
   "version": "3.6.1"
  }
 },
 "nbformat": 4,
 "nbformat_minor": 1
}
